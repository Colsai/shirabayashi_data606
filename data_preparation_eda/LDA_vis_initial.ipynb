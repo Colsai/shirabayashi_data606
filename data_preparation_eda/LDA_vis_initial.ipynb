{
  "nbformat": 4,
  "nbformat_minor": 0,
  "metadata": {
    "colab": {
      "name": "LDA_vis_initial.ipynb",
      "provenance": [],
      "collapsed_sections": [],
      "authorship_tag": "ABX9TyMA+rg0OcWHepGdI8ptV+gr",
      "include_colab_link": true
    },
    "kernelspec": {
      "name": "python3",
      "display_name": "Python 3"
    },
    "language_info": {
      "name": "python"
    }
  },
  "cells": [
    {
      "cell_type": "markdown",
      "metadata": {
        "id": "view-in-github",
        "colab_type": "text"
      },
      "source": [
        "<a href=\"https://colab.research.google.com/github/Colsai/shirabayashi_data606/blob/main/data_preparation_eda/LDA_vis_initial.ipynb\" target=\"_parent\"><img src=\"https://colab.research.google.com/assets/colab-badge.svg\" alt=\"Open In Colab\"/></a>"
      ]
    },
    {
      "cell_type": "markdown",
      "source": [
        "# Workplan Topic Modeling\n",
        "## Initial Test of LDA Modeling\n",
        "- Looking through the current OIG work projects and group them using LDA."
      ],
      "metadata": {
        "id": "gQCuWliXhpwQ"
      }
    },
    {
      "cell_type": "code",
      "source": [
        "#Pip install\n",
        "!pip install pyLDAvis\n",
        "!python -m spacy download en_core_web_md -qq\n",
        "from IPython.display import clear_output\n",
        "clear_output()"
      ],
      "metadata": {
        "id": "3T1wTTOW2eOk"
      },
      "execution_count": 70,
      "outputs": []
    },
    {
      "cell_type": "code",
      "execution_count": 71,
      "metadata": {
        "colab": {
          "base_uri": "https://localhost:8080/"
        },
        "id": "vgbMXbvzq4_b",
        "outputId": "49bae024-97b4-4417-e242-393e97862e1f"
      },
      "outputs": [
        {
          "output_type": "stream",
          "name": "stderr",
          "text": [
            "[nltk_data] Downloading package punkt to /root/nltk_data...\n",
            "[nltk_data]   Package punkt is already up-to-date!\n",
            "[nltk_data] Downloading package stopwords to /root/nltk_data...\n",
            "[nltk_data]   Package stopwords is already up-to-date!\n"
          ]
        }
      ],
      "source": [
        "###########################\n",
        "# Packages                #\n",
        "###########################\n",
        "import pandas as pd\n",
        "import sklearn\n",
        "import nltk\n",
        "import spacy\n",
        "from nltk.tokenize import RegexpTokenizer\n",
        "import matplotlib.pyplot as plt\n",
        "import seaborn as sns\n",
        "import pyLDAvis.gensim_models\n",
        "import en_core_web_md\n",
        "import gensim\n",
        "import random\n",
        "import pyLDAvis\n",
        "from gensim.models.coherencemodel import CoherenceModel\n",
        "from gensim.corpora.dictionary import Dictionary\n",
        "from gensim.models import LdaMulticore\n",
        "from gensim.models import CoherenceModel\n",
        "from gensim.test.utils import datapath\n",
        "import warnings\n",
        "\n",
        "warnings.filterwarnings('ignore')\n",
        "\n",
        "# Set options for specific packages\n",
        "nltk.download(['punkt', \n",
        "               'stopwords'])\n",
        "\n",
        "# Visualise inside a notebook\n",
        "pyLDAvis.enable_notebook()\n",
        "\n",
        "sns.set()"
      ]
    },
    {
      "cell_type": "code",
      "source": [
        "###########################\n",
        "# Load CSVs (Github)      #\n",
        "###########################\n",
        "workplan_df = pd.read_csv(\"https://github.com/Colsai/scott_data606/blob/main/Data_Sources/HHS_OIG_workplans.csv?raw=true\")\n",
        "\n",
        "#Drop dead column\n",
        "workplan_df.drop(columns = 'Office of Evaluation and Inspections', \n",
        "                 inplace = True)\n",
        "\n",
        "reports_df = pd.read_csv(\"https://github.com/Colsai/scott_data606/blob/main/Data_Sources/HHS_OIG_Reports.csv?raw=true\")"
      ],
      "metadata": {
        "id": "S7soBUSEq7en"
      },
      "execution_count": 72,
      "outputs": []
    },
    {
      "cell_type": "code",
      "source": [
        "# Save model to disk.\n",
        "def save_model(path = '/content/drive/MyDrive/DATA_606/lda_model', \n",
        "               model = Lda_model)\n",
        "    temp_file = datapath([path])\n",
        "    model.save(temp_file)\n",
        "\n",
        "# Load a potentially pretrained model from disk.\n",
        "def load_model(path = ''):\n",
        "    saved_model = LdaModel.load(path)\n",
        "    return saved_model"
      ],
      "metadata": {
        "id": "HCOeF7mQcHz2"
      },
      "execution_count": null,
      "outputs": []
    },
    {
      "cell_type": "markdown",
      "source": [
        "## Topic Modeling for Workplan df\n",
        "Look at topics of previous projects decided on"
      ],
      "metadata": {
        "id": "b9mHl9gxhOUJ"
      }
    },
    {
      "cell_type": "code",
      "source": [
        "workplan_df.head()"
      ],
      "metadata": {
        "colab": {
          "base_uri": "https://localhost:8080/",
          "height": 545
        },
        "id": "6vLY89o3hand",
        "outputId": "6e54db01-773d-4ac6-e2ad-b04388df8a4b"
      },
      "execution_count": 73,
      "outputs": [
        {
          "output_type": "execute_result",
          "data": {
            "text/plain": [
              "  Announced or Revised                                    Agency  \\\n",
              "0            Completed  Administration for Children and Families   \n",
              "1            Completed  Administration for Children and Families   \n",
              "2            Completed  Administration for Children and Families   \n",
              "3               Nov-16  Administration for Children and Families   \n",
              "4         October 2020  Administration for Children and Families   \n",
              "\n",
              "                                               Title  \\\n",
              "0  States' Accuracy of Reporting TANF Spending In...   \n",
              "1  Head Start: Review of Single Audit Findings an...   \n",
              "2     Unaccompanied Children Program Grantee Reviews   \n",
              "3  Recommendation Follow-Up: Office of Refugee Re...   \n",
              "4  ACF Oversight of Guardian Ad Litem Requirement...   \n",
              "\n",
              "                              Component  \\\n",
              "0              Office of Audit Services   \n",
              "1              Office of Audit Services   \n",
              "2              Office of Audit Services   \n",
              "3  Office of Evaluation and Inspections   \n",
              "4  Office of Evaluation and Inspections   \n",
              "\n",
              "                                    Report Number(s) Expected Issue Date (FY)  \\\n",
              "0                      A-02-17-02005;  W-00-17-25100                     2021   \n",
              "1  A-02-16-02009,  A-09-16-01004,  A-06-17-07003;...                     2018   \n",
              "2  A-02-16-02013;  A-04-16-03566;  A-02-16-02007;...                     2020   \n",
              "3                                    OEI-09-16-00260                     2017   \n",
              "4                                    OEI-12-16-00120                     2022   \n",
              "\n",
              "                                        Website_Link  \\\n",
              "0  https://oig.hhs.gov/reports-and-publications/w...   \n",
              "1  https://oig.hhs.gov/reports-and-publications/w...   \n",
              "2  https://oig.hhs.gov/reports-and-publications/w...   \n",
              "3  https://oig.hhs.gov/reports-and-publications/w...   \n",
              "4  https://oig.hhs.gov/reports-and-publications/w...   \n",
              "\n",
              "                                             Summary  \n",
              "0  The Temporary Assistance for Needy Families (T...  \n",
              "1  Effective for awards made on or after December...  \n",
              "2  Under the Homeland Security Act of 2002, § 462...  \n",
              "3  Under the Homeland Security Act of 2002, § 462...  \n",
              "4  As a condition of receiving Child Abuse Preven...  "
            ],
            "text/html": [
              "\n",
              "  <div id=\"df-a1884300-5ff2-4b29-ac68-38d1eab890f4\">\n",
              "    <div class=\"colab-df-container\">\n",
              "      <div>\n",
              "<style scoped>\n",
              "    .dataframe tbody tr th:only-of-type {\n",
              "        vertical-align: middle;\n",
              "    }\n",
              "\n",
              "    .dataframe tbody tr th {\n",
              "        vertical-align: top;\n",
              "    }\n",
              "\n",
              "    .dataframe thead th {\n",
              "        text-align: right;\n",
              "    }\n",
              "</style>\n",
              "<table border=\"1\" class=\"dataframe\">\n",
              "  <thead>\n",
              "    <tr style=\"text-align: right;\">\n",
              "      <th></th>\n",
              "      <th>Announced or Revised</th>\n",
              "      <th>Agency</th>\n",
              "      <th>Title</th>\n",
              "      <th>Component</th>\n",
              "      <th>Report Number(s)</th>\n",
              "      <th>Expected Issue Date (FY)</th>\n",
              "      <th>Website_Link</th>\n",
              "      <th>Summary</th>\n",
              "    </tr>\n",
              "  </thead>\n",
              "  <tbody>\n",
              "    <tr>\n",
              "      <th>0</th>\n",
              "      <td>Completed</td>\n",
              "      <td>Administration for Children and Families</td>\n",
              "      <td>States' Accuracy of Reporting TANF Spending In...</td>\n",
              "      <td>Office of Audit Services</td>\n",
              "      <td>A-02-17-02005;  W-00-17-25100</td>\n",
              "      <td>2021</td>\n",
              "      <td>https://oig.hhs.gov/reports-and-publications/w...</td>\n",
              "      <td>The Temporary Assistance for Needy Families (T...</td>\n",
              "    </tr>\n",
              "    <tr>\n",
              "      <th>1</th>\n",
              "      <td>Completed</td>\n",
              "      <td>Administration for Children and Families</td>\n",
              "      <td>Head Start: Review of Single Audit Findings an...</td>\n",
              "      <td>Office of Audit Services</td>\n",
              "      <td>A-02-16-02009,  A-09-16-01004,  A-06-17-07003;...</td>\n",
              "      <td>2018</td>\n",
              "      <td>https://oig.hhs.gov/reports-and-publications/w...</td>\n",
              "      <td>Effective for awards made on or after December...</td>\n",
              "    </tr>\n",
              "    <tr>\n",
              "      <th>2</th>\n",
              "      <td>Completed</td>\n",
              "      <td>Administration for Children and Families</td>\n",
              "      <td>Unaccompanied Children Program Grantee Reviews</td>\n",
              "      <td>Office of Audit Services</td>\n",
              "      <td>A-02-16-02013;  A-04-16-03566;  A-02-16-02007;...</td>\n",
              "      <td>2020</td>\n",
              "      <td>https://oig.hhs.gov/reports-and-publications/w...</td>\n",
              "      <td>Under the Homeland Security Act of 2002, § 462...</td>\n",
              "    </tr>\n",
              "    <tr>\n",
              "      <th>3</th>\n",
              "      <td>Nov-16</td>\n",
              "      <td>Administration for Children and Families</td>\n",
              "      <td>Recommendation Follow-Up: Office of Refugee Re...</td>\n",
              "      <td>Office of Evaluation and Inspections</td>\n",
              "      <td>OEI-09-16-00260</td>\n",
              "      <td>2017</td>\n",
              "      <td>https://oig.hhs.gov/reports-and-publications/w...</td>\n",
              "      <td>Under the Homeland Security Act of 2002, § 462...</td>\n",
              "    </tr>\n",
              "    <tr>\n",
              "      <th>4</th>\n",
              "      <td>October 2020</td>\n",
              "      <td>Administration for Children and Families</td>\n",
              "      <td>ACF Oversight of Guardian Ad Litem Requirement...</td>\n",
              "      <td>Office of Evaluation and Inspections</td>\n",
              "      <td>OEI-12-16-00120</td>\n",
              "      <td>2022</td>\n",
              "      <td>https://oig.hhs.gov/reports-and-publications/w...</td>\n",
              "      <td>As a condition of receiving Child Abuse Preven...</td>\n",
              "    </tr>\n",
              "  </tbody>\n",
              "</table>\n",
              "</div>\n",
              "      <button class=\"colab-df-convert\" onclick=\"convertToInteractive('df-a1884300-5ff2-4b29-ac68-38d1eab890f4')\"\n",
              "              title=\"Convert this dataframe to an interactive table.\"\n",
              "              style=\"display:none;\">\n",
              "        \n",
              "  <svg xmlns=\"http://www.w3.org/2000/svg\" height=\"24px\"viewBox=\"0 0 24 24\"\n",
              "       width=\"24px\">\n",
              "    <path d=\"M0 0h24v24H0V0z\" fill=\"none\"/>\n",
              "    <path d=\"M18.56 5.44l.94 2.06.94-2.06 2.06-.94-2.06-.94-.94-2.06-.94 2.06-2.06.94zm-11 1L8.5 8.5l.94-2.06 2.06-.94-2.06-.94L8.5 2.5l-.94 2.06-2.06.94zm10 10l.94 2.06.94-2.06 2.06-.94-2.06-.94-.94-2.06-.94 2.06-2.06.94z\"/><path d=\"M17.41 7.96l-1.37-1.37c-.4-.4-.92-.59-1.43-.59-.52 0-1.04.2-1.43.59L10.3 9.45l-7.72 7.72c-.78.78-.78 2.05 0 2.83L4 21.41c.39.39.9.59 1.41.59.51 0 1.02-.2 1.41-.59l7.78-7.78 2.81-2.81c.8-.78.8-2.07 0-2.86zM5.41 20L4 18.59l7.72-7.72 1.47 1.35L5.41 20z\"/>\n",
              "  </svg>\n",
              "      </button>\n",
              "      \n",
              "  <style>\n",
              "    .colab-df-container {\n",
              "      display:flex;\n",
              "      flex-wrap:wrap;\n",
              "      gap: 12px;\n",
              "    }\n",
              "\n",
              "    .colab-df-convert {\n",
              "      background-color: #E8F0FE;\n",
              "      border: none;\n",
              "      border-radius: 50%;\n",
              "      cursor: pointer;\n",
              "      display: none;\n",
              "      fill: #1967D2;\n",
              "      height: 32px;\n",
              "      padding: 0 0 0 0;\n",
              "      width: 32px;\n",
              "    }\n",
              "\n",
              "    .colab-df-convert:hover {\n",
              "      background-color: #E2EBFA;\n",
              "      box-shadow: 0px 1px 2px rgba(60, 64, 67, 0.3), 0px 1px 3px 1px rgba(60, 64, 67, 0.15);\n",
              "      fill: #174EA6;\n",
              "    }\n",
              "\n",
              "    [theme=dark] .colab-df-convert {\n",
              "      background-color: #3B4455;\n",
              "      fill: #D2E3FC;\n",
              "    }\n",
              "\n",
              "    [theme=dark] .colab-df-convert:hover {\n",
              "      background-color: #434B5C;\n",
              "      box-shadow: 0px 1px 3px 1px rgba(0, 0, 0, 0.15);\n",
              "      filter: drop-shadow(0px 1px 2px rgba(0, 0, 0, 0.3));\n",
              "      fill: #FFFFFF;\n",
              "    }\n",
              "  </style>\n",
              "\n",
              "      <script>\n",
              "        const buttonEl =\n",
              "          document.querySelector('#df-a1884300-5ff2-4b29-ac68-38d1eab890f4 button.colab-df-convert');\n",
              "        buttonEl.style.display =\n",
              "          google.colab.kernel.accessAllowed ? 'block' : 'none';\n",
              "\n",
              "        async function convertToInteractive(key) {\n",
              "          const element = document.querySelector('#df-a1884300-5ff2-4b29-ac68-38d1eab890f4');\n",
              "          const dataTable =\n",
              "            await google.colab.kernel.invokeFunction('convertToInteractive',\n",
              "                                                     [key], {});\n",
              "          if (!dataTable) return;\n",
              "\n",
              "          const docLinkHtml = 'Like what you see? Visit the ' +\n",
              "            '<a target=\"_blank\" href=https://colab.research.google.com/notebooks/data_table.ipynb>data table notebook</a>'\n",
              "            + ' to learn more about interactive tables.';\n",
              "          element.innerHTML = '';\n",
              "          dataTable['output_type'] = 'display_data';\n",
              "          await google.colab.output.renderOutput(dataTable, element);\n",
              "          const docLink = document.createElement('div');\n",
              "          docLink.innerHTML = docLinkHtml;\n",
              "          element.appendChild(docLink);\n",
              "        }\n",
              "      </script>\n",
              "    </div>\n",
              "  </div>\n",
              "  "
            ]
          },
          "metadata": {},
          "execution_count": 73
        }
      ]
    },
    {
      "cell_type": "code",
      "source": [
        "###########################\n",
        "# Clean Data              #\n",
        "###########################\n",
        "\n",
        "from nltk.stem import RegexpStemmer\n",
        "\n",
        "stopwords = nltk.corpus.stopwords.words('english')\n",
        "\n",
        "#Add stopwords\n",
        "stopwords.append(['on',\n",
        "                  'or', \n",
        "                  'to', \n",
        "                  'a', \n",
        "                  'as', \n",
        "                  'of', \n",
        "                  'for',\n",
        "                  'this', \n",
        "                  'by', \n",
        "                  's',\n",
        "                  'oig'])\n",
        "\n",
        "#Set tokenizer to additionally remove punctuation\n",
        "tokenizer = RegexpTokenizer(r'\\w+')\n",
        "\n",
        "wp_init_srs = [paragraph.lower() for paragraph in workplan_df[\"Summary\"]]\n",
        "\n",
        "tokenized_sums = [[i for i in tokenizer.tokenize(sent) if i not in stopwords] \n",
        "                  for sent in wp_init_srs]\n",
        "\n",
        "# Regex Stemmer (Other Stemmers didn't seem to work well)\n",
        "Reg_stemmer = RegexpStemmer(\"ing$|s$|ies$\")\n",
        "\n",
        "tokenized_stemmed_sums = [[Reg_stemmer.stem(word) for word in sent] for sent in tokenized_sums]\n",
        "\n",
        "# Set new column of tokenized summaries\n",
        "workplan_df[\"summary_tokenized\"] = tokenized_stemmed_sums\n",
        "\n",
        "workplan_df[\"summary_token_num\"] = [len(sent) for sent in tokenized_stemmed_sums]"
      ],
      "metadata": {
        "id": "UyJmuTKXuphI"
      },
      "execution_count": 74,
      "outputs": []
    },
    {
      "cell_type": "code",
      "source": [
        "dictionary = Dictionary(workplan_df[\"summary_tokenized\"])\n",
        "\n",
        "#Filter extreme token values (no tokens below 5, no tokens in over 60% of documents)\n",
        "dictionary.filter_extremes(no_below=5, \n",
        "                           no_above=0.5, \n",
        "                           keep_n=1000)"
      ],
      "metadata": {
        "id": "upjy1Cigy-my"
      },
      "execution_count": 75,
      "outputs": []
    },
    {
      "cell_type": "code",
      "source": [
        "corpus = [dictionary.doc2bow(doc) for doc in workplan_df[\"summary_tokenized\"]]"
      ],
      "metadata": {
        "id": "0HQ9NMIy3ZgS"
      },
      "execution_count": 76,
      "outputs": []
    },
    {
      "cell_type": "code",
      "source": [
        "###############################\n",
        "# LDA Data: Normal LDA        #\n",
        "###############################\n",
        "lda_model = LdaMulticore(corpus=corpus, \n",
        "                         id2word=dictionary, \n",
        "                         iterations=100, \n",
        "                         num_topics=10,\n",
        "                         workers = 8, \n",
        "                         passes=20)\n",
        "\n",
        "#Visualize the model with pyLDAvis\n",
        "lda_model_visualize = pyLDAvis.gensim_models.prepare(lda_model,\n",
        "                                                     corpus = corpus, \n",
        "                                                     dictionary = dictionary)\n",
        "lda_model_visualize"
      ],
      "metadata": {
        "colab": {
          "base_uri": "https://localhost:8080/",
          "height": 881
        },
        "id": "d74W0WTa3dXK",
        "outputId": "4ca5b3cc-c270-4acd-f2dd-7050af709d64"
      },
      "execution_count": 77,
      "outputs": [
        {
          "output_type": "execute_result",
          "data": {
            "text/plain": [
              "PreparedData(topic_coordinates=              x         y  topics  cluster       Freq\n",
              "topic                                                \n",
              "4     -0.095617  0.101976       1        1  15.955401\n",
              "8      0.137759 -0.013923       2        1  13.417643\n",
              "9     -0.118376  0.114659       3        1  13.375836\n",
              "1     -0.186390  0.074588       4        1  12.890313\n",
              "6      0.008453 -0.190991       5        1  10.323018\n",
              "7      0.103968  0.012138       6        1   9.904555\n",
              "0      0.237503  0.119825       7        1   7.045472\n",
              "2     -0.046654 -0.128201       8        1   6.514547\n",
              "5      0.017739 -0.002656       9        1   6.287575\n",
              "3     -0.058385 -0.087414      10        1   4.285640, topic_info=         Term        Freq       Total Category  logprob  loglift\n",
              "237  medicare  938.000000  938.000000  Default  30.0000  30.0000\n",
              "349  hospital  301.000000  301.000000  Default  29.0000  29.0000\n",
              "213   payment  624.000000  624.000000  Default  28.0000  28.0000\n",
              "163      drug  429.000000  429.000000  Default  27.0000  27.0000\n",
              "973     covid  244.000000  244.000000  Default  26.0000  26.0000\n",
              "..        ...         ...         ...      ...      ...      ...\n",
              "237  medicare   30.383790  938.602484  Topic10  -4.2018  -0.2806\n",
              "213   payment   21.898337  624.866608  Topic10  -4.5293  -0.2012\n",
              "20      grant   17.403015  181.009518  Topic10  -4.7591   0.8080\n",
              "229      data   18.129045  316.883632  Topic10  -4.7182   0.2889\n",
              "218  provider   17.439898  308.615878  Topic10  -4.7570   0.2766\n",
              "\n",
              "[592 rows x 6 columns], token_table=      Topic      Freq  Term\n",
              "term                       \n",
              "46        1  0.023926   000\n",
              "46        3  0.023926   000\n",
              "46        4  0.311041   000\n",
              "46        5  0.598155   000\n",
              "246       2  0.803312    04\n",
              "...     ...       ...   ...\n",
              "45        5  0.058364  year\n",
              "45        6  0.125065  year\n",
              "45        7  0.066701  year\n",
              "45        8  0.025013  year\n",
              "45       10  0.100052  year\n",
              "\n",
              "[1793 rows x 3 columns], R=30, lambda_step=0.01, plot_opts={'xlab': 'PC1', 'ylab': 'PC2'}, topic_order=[5, 9, 10, 2, 7, 8, 1, 3, 6, 4])"
            ],
            "text/html": [
              "\n",
              "<link rel=\"stylesheet\" type=\"text/css\" href=\"https://cdn.jsdelivr.net/gh/bmabey/pyLDAvis@3.3.1/pyLDAvis/js/ldavis.v1.0.0.css\">\n",
              "\n",
              "\n",
              "<div id=\"ldavis_el651406763871093282151816868\"></div>\n",
              "<script type=\"text/javascript\">\n",
              "\n",
              "var ldavis_el651406763871093282151816868_data = {\"mdsDat\": {\"x\": [-0.09561740639423466, 0.13775918976060256, -0.11837599537785524, -0.1863901767053574, 0.008452587542173236, 0.10396833520574902, 0.2375028738907479, -0.046654058273913314, 0.017739390000524782, -0.058384739648436906], \"y\": [0.10197609232888243, -0.013923074700399449, 0.1146589340445924, 0.07458773382742728, -0.1909905994196192, 0.012137905108963185, 0.11982487554299913, -0.12820131434834484, -0.0026561273809604553, -0.08741442500354035], \"topics\": [1, 2, 3, 4, 5, 6, 7, 8, 9, 10], \"cluster\": [1, 1, 1, 1, 1, 1, 1, 1, 1, 1], \"Freq\": [15.955400660788413, 13.417642791036316, 13.375836214997461, 12.890313417642657, 10.323017973175668, 9.904554918356299, 7.045471834738137, 6.514546887439867, 6.287574831531987, 4.285640470293198]}, \"tinfo\": {\"Term\": [\"medicare\", \"hospital\", \"payment\", \"drug\", \"covid\", \"state\", \"19\", \"nurs\", \"home\", \"opioid\", \"care\", \"fund\", \"financial\", \"data\", \"medicaid\", \"health\", \"children\", \"inpatient\", \"nih\", \"hh\", \"test\", \"amp\", \"grant\", \"act\", \"risk\", \"cm\", \"ih\", \"claim\", \"provider\", \"fda\", \"foster\", \"child\", \"acf\", \"economic\", \"iv\", \"famil\", \"efficient\", \"enhanced\", \"income\", \"family\", \"fmap\", \"shelter\", \"children\", \"parent\", \"waiver\", \"adult\", \"enrollment\", \"refugee\", \"appropriated\", \"community\", \"title\", \"los\", \"assistance\", \"promote\", \"participation\", \"state\", \"personal\", \"targeted\", \"liv\", \"enhance\", \"temporary\", \"disaster\", \"local\", \"care\", \"provider\", \"agenc\", \"program\", \"federal\", \"emergency\", \"requirement\", \"medicaid\", \"managed\", \"ensure\", \"act\", \"support\", \"health\", \"fund\", \"plan\", \"administration\", \"based\", \"must\", \"provide\", \"home\", \"safety\", \"receive\", \"review\", \"payment\", \"rebate\", \"mco\", \"capitation\", \"pharmac\", \"medically\", \"manual\", \"process\", \"enrollee\", \"necessity\", \"1862\", \"04\", \"supplier\", \"return\", \"practitioner\", \"monthly\", \"documented\", \"calculat\", \"pub\", \"transaction\", \"ch\", \"amp\", \"reasonable\", \"necessary\", \"modifier\", \"portion\", \"pharmacy\", \"july\", \"administered\", \"100\", \"reimbursed\", \"therapy\", \"medicaid\", \"device\", \"medicare\", \"claim\", \"center\", \"outpatient\", \"covered\", \"physician\", \"cfr\", \"part\", \"b\", \"drug\", \"prescription\", \"cost\", \"beneficiary\", \"payment\", \"contractor\", \"benefit\", \"42\", \"requirement\", \"paid\", \"beneficiar\", \"must\", \"review\", \"state\", \"prior\", \"medical\", \"oig\", \"amount\", \"federal\", \"program\", \"ih\", \"hha\", \"tribe\", \"operated\", \"alaska\", \"native\", \"covid\", \"indian\", \"19\", \"infection\", \"cybersecurity\", \"pandemic\", \"recognized\", \"viru\", \"federally\", \"document\", \"spread\", \"challenge\", \"tribal\", \"interview\", \"best\", \"custody\", \"network\", \"orr\", \"affected\", \"contact\", \"faced\", \"american\", \"march\", \"communit\", \"partner\", \"test\", \"coronaviru\", \"disease\", \"facilit\", \"cdc\", \"health\", \"staff\", \"protect\", \"prevention\", \"addres\", \"provide\", \"identify\", \"includ\", \"patient\", \"care\", \"control\", \"emergency\", \"program\", \"response\", \"children\", \"hospital\", \"also\", \"state\", \"public\", \"review\", \"center\", \"awarded\", \"foreign\", \"aspr\", \"hrsa\", \"award\", \"universit\", \"principle\", \"obligation\", \"internal\", \"school\", \"recipient\", \"grantee\", \"strategic\", \"start\", \"world\", \"head\", \"circular\", \"weaknesse\", \"assistant\", \"cooperative\", \"scope\", \"division\", \"grant\", \"research\", \"fiscal\", \"civil\", \"fy\", \"expended\", \"75\", \"institute\", \"fund\", \"hh\", \"contract\", \"control\", \"mfcu\", \"federal\", \"response\", \"national\", \"u\", \"audit\", \"regulation\", \"health\", \"cdc\", \"year\", \"agency\", \"program\", \"center\", \"nih\", \"compliance\", \"oig\", \"requirement\", \"accordance\", \"review\", \"agenc\", \"office\", \"state\", \"fda\", \"asp\", \"opioid\", \"overdose\", \"sale\", \"food\", \"product\", \"price\", \"average\", \"comparison\", \"prescriber\", \"substitution\", \"substitute\", \"extreme\", \"market\", \"produced\", \"quarter\", \"misuse\", \"crisi\", \"quarterly\", \"telehealth\", \"prescrib\", \"brief\", \"calculated\", \"limit\", \"mechanism\", \"excessive\", \"project\", \"doctor\", \"mandate\", \"find\", \"drug\", \"manufacturer\", \"lower\", \"death\", \"amount\", \"000\", \"four\", \"data\", \"reimbursement\", \"administration\", \"oig\", \"amp\", \"order\", \"part\", \"beneficiar\", \"medicare\", \"report\", \"use\", \"b\", \"act\", \"also\", \"health\", \"state\", \"may\", \"incentive\", \"cod\", \"injury\", \"improper\", \"surgical\", \"40\", \"rather\", \"schedule\", \"behavioral\", \"inappropriately\", \"difference\", \"2002\", \"les\", \"recover\", \"almost\", \"error\", \"similar\", \"assisted\", \"estimate\", \"estimated\", \"2010\", \"billed\", \"compensation\", \"pain\", \"either\", \"money\", \"recovery\", \"separately\", \"laborator\", \"fee\", \"treatment\", \"disorder\", \"treat\", \"payment\", \"rule\", \"visit\", \"day\", \"procedure\", \"significant\", \"provider\", \"rate\", \"acces\", \"medicare\", \"use\", \"administrative\", \"cm\", \"million\", \"cost\", \"provided\", \"c\", \"patient\", \"review\", \"report\", \"part\", \"1\", \"percent\", \"beneficiar\", \"based\", \"program\", \"e\", \"health\", \"audit\", \"related\", \"hospital\", \"discharge\", \"inpatient\", \"acute\", \"stay\", \"transfer\", \"snf\", \"preventable\", \"hospice\", \"hospital\", \"412\", \"competitive\", \"bidd\", \"reduced\", \"post\", \"prospective\", \"full\", \"rehabilitation\", \"common\", \"skilled\", \"another\", \"acquisition\", \"severe\", \"particular\", \"diagnosi\", \"facility\", \"file\", \"paid\", \"beneficiary\", \"establishe\", \"per\", \"condition\", \"bill\", \"group\", \"claim\", \"medicare\", \"payment\", \"care\", \"physician\", \"patient\", \"related\", \"pay\", \"certain\", \"home\", \"medical\", \"cost\", \"beneficiar\", \"review\", \"cm\", \"part\", \"system\", \"statement\", \"auditor\", \"dual\", \"paper\", \"discretion\", \"accepted\", \"audited\", \"financial\", \"formular\", \"check\", \"background\", \"423\", \"1990\", \"omb\", \"completion\", \"officer\", \"interest\", \"limitation\", \"external\", \"material\", \"independent\", \"property\", \"november\", \"accuracy\", \"outlined\", \"respect\", \"consistent\", \"retain\", \"sponsor\", \"completenes\", \"aca\", \"affordable\", \"amended\", \"data\", \"act\", \"audit\", \"require\", \"drug\", \"government\", \"standard\", \"review\", \"hh\", \"eligible\", \"program\", \"quality\", \"information\", \"care\", \"part\", \"requirement\", \"conduct\", \"report\", \"oig\", \"federal\", \"plan\", \"medicaid\", \"state\", \"security\", \"provider\", \"travel\", \"resident\", \"nurs\", \"adverse\", \"waste\", \"neglect\", \"harm\", \"purchase\", \"incident\", \"charge\", \"event\", \"characteristic\", \"experienced\", \"complaint\", \"deficienc\", \"daily\", \"enable\", \"home\", \"investigation\", \"17\", \"fraud\", \"periodic\", \"tool\", \"describe\", \"abuse\", \"analyze\", \"detect\", \"indicated\", \"multiple\", \"skilled\", \"potential\", \"survey\", \"staff\", \"quality\", \"high\", \"facilit\", \"report\", \"risk\", \"data\", \"cm\", \"beneficiar\", \"medicare\", \"extent\", \"identify\", \"program\", \"use\", \"care\", \"oig\", \"patient\", \"also\", \"review\", \"accompany\", \"laboratory\", \"115\", \"diagnose\", \"top\", \"labor\", \"clinical\", \"publicly\", \"25\", \"payer\", \"education\", \"nih\", \"defense\", \"continu\", \"directed\", \"adjusted\", \"selection\", \"reach\", \"release\", \"appropriation\", \"january\", \"l\", \"27\", \"higher\", \"advantage\", \"progres\", \"analysi\", \"submitted\", \"application\", \"test\", \"risk\", \"organization\", \"new\", \"department\", \"cm\", \"submit\", \"system\", \"2019\", \"act\", \"health\", \"c\", \"2\", \"2018\", \"require\", \"1\", \"review\", \"oig\", \"medicare\", \"payment\", \"grant\", \"data\", \"provider\"], \"Freq\": [938.0, 301.0, 624.0, 429.0, 244.0, 727.0, 254.0, 160.0, 249.0, 169.0, 615.0, 272.0, 132.0, 316.0, 537.0, 669.0, 204.0, 102.0, 104.0, 262.0, 142.0, 202.0, 181.0, 337.0, 195.0, 285.0, 107.0, 193.0, 308.0, 89.0, 45.53425597540909, 59.61656580552, 38.757401546704756, 21.288712593034713, 17.343549550498647, 68.36301143736284, 9.761254385218118, 11.362625608597009, 18.26696929034739, 17.89457043117758, 25.261414011001882, 16.70511531019942, 159.7910020319786, 16.60064156541652, 22.4065566769117, 17.14768943148147, 23.001578078605622, 22.16606436626553, 9.986463434156118, 30.392759452114863, 21.8745351814417, 9.771581935827847, 36.16062300734699, 8.834405324960763, 8.785116542022688, 466.63019339220284, 13.643238049656642, 7.803707152421817, 20.507306131533664, 6.574779216299097, 16.849847059573953, 20.306353937984664, 23.119967931706494, 282.2328514474509, 137.95880461742868, 61.893317841768706, 186.60547942037758, 171.8507658990651, 52.14916695015342, 129.93221715160544, 149.7074275986783, 37.61257509829924, 52.088611028561395, 94.0312829072689, 48.745915710946164, 122.78017149252122, 73.29551084014956, 53.76656395612937, 43.33868153093658, 45.55670403583654, 46.31804483805598, 58.17636384370511, 52.78966687652741, 32.826186914974464, 35.98761915929333, 40.134967824627466, 39.42494190203697, 59.6625785874137, 53.51813832969626, 12.48951482828187, 17.1462228174793, 21.28724969243406, 26.37635559530043, 15.70567573121203, 18.585888020695275, 7.868748752267989, 8.557723585263298, 10.583030898509923, 18.88032598461043, 9.76137113770353, 13.817195680679326, 7.825116256602752, 9.876675866990338, 8.45607990508899, 16.853140230871162, 19.63993062402993, 13.781609628022347, 137.6643591272976, 25.215223388015833, 41.1421851799723, 14.196624383827917, 11.547693322893597, 8.779372165047278, 8.07417349528035, 14.341004619755456, 25.6829558105184, 5.959119414951943, 23.58660290370427, 268.0618835383898, 33.35387644323935, 394.3296620751699, 94.42519514029185, 116.30325764799605, 37.093238141060944, 37.28680555214122, 55.62517593032478, 48.239485277914646, 135.15347827595954, 72.32861503356968, 140.89284419790258, 37.690373584314585, 74.34004822528873, 46.79430682595854, 144.85764834823217, 31.01361036893523, 30.65023312105578, 36.8058034531219, 82.60006081759416, 34.18400065370163, 63.606211625834085, 43.95713812365998, 75.14610117152549, 95.74687149365887, 39.61834749478356, 46.41824289136471, 58.60341336809989, 38.163861921363335, 48.28597057647064, 38.0461808427806, 106.669897829295, 40.533567929264144, 16.82820264321442, 16.8196886014688, 13.886670547884856, 14.673017236100767, 225.88952859305746, 52.76371748595563, 226.84255844677875, 33.27098706610426, 29.74946906568638, 83.83627040898268, 9.919694992219998, 8.13199477311589, 12.118260415566676, 10.387285810875335, 12.51603520687239, 51.80082243625467, 20.884963577779878, 16.91315572815129, 8.082668793217485, 13.336662271070324, 21.881559305194322, 47.58661368188192, 10.431305265274801, 9.768210099258981, 8.40266813768997, 29.689307300849766, 14.610741711419823, 13.736202708247403, 16.826265890474993, 81.56122759090536, 27.59742848480309, 61.95175508513655, 84.7502465951265, 47.53705464262873, 215.50532418086658, 28.466745778381, 26.44036844150204, 30.8979944164129, 27.883752227568618, 61.49513575686651, 49.28863729950789, 45.9383176208295, 51.97695040586559, 83.2416563417337, 45.990257405643575, 37.11259881478391, 69.90561064541211, 38.189831603894106, 44.179737283070025, 48.98838309758684, 38.273370107050994, 48.25477420121626, 33.621402131435154, 40.2356000691147, 34.16930402370139, 40.65378468384018, 35.663115078174734, 23.925747770369515, 34.35899000595759, 85.11915620229618, 12.792158338541938, 10.891748916000884, 8.766425688573431, 38.612347293293126, 13.73921829933775, 29.993116823232892, 69.06174256940166, 10.888526337483004, 19.906639388549806, 8.923427951283742, 18.47375332729448, 15.142856653047692, 6.997727613126957, 12.385439646340041, 9.226828672357591, 13.059984891684953, 14.482010564816502, 136.92818286140653, 47.5460570753752, 25.715738745515736, 7.325688590196691, 43.92923225343459, 7.037600447770658, 14.59540069301929, 41.333227054458185, 181.74651415085174, 162.30187055562703, 66.04211684382653, 95.25633914016973, 32.18215030002232, 183.75280880380768, 61.52318895046217, 55.406169159851764, 34.450612447859406, 89.53426219683749, 47.18969419323831, 170.03941377811609, 43.707666120541845, 47.85279765010047, 41.7694820221098, 108.98568927008925, 71.95653069222415, 43.34529022246731, 40.94290413668294, 66.40410324630604, 59.81764175752862, 42.030318977294094, 49.98116079114084, 40.22124271799214, 39.79500375750285, 39.85931601921697, 88.28298240280483, 62.512661867059975, 166.2849851737017, 50.966887065931836, 26.011285834071124, 61.27474206403666, 44.935061295137245, 68.0368519510324, 34.38075846043083, 13.540034437970078, 13.531115067665425, 12.580169031489447, 11.619963243168218, 10.656620022229294, 46.14171150485765, 8.62920104674868, 31.77536201240698, 13.462813296186333, 26.230915224516103, 20.863601325031567, 45.11649050818044, 11.03202362518324, 23.946620661063044, 15.56941146283474, 22.91427555215015, 12.47452088321208, 12.457185315758437, 13.176008012658087, 8.637942826527805, 13.448954404790179, 12.532279924839044, 211.23141681607606, 48.79088857102783, 24.13654006730753, 35.40704727706284, 58.6419443086442, 25.425416967149854, 16.546334666972673, 95.96900016846463, 35.35336712551903, 45.21683370870801, 85.12828252170598, 52.20480686895515, 32.07198372607397, 66.48811229950616, 60.42613256819724, 94.01619653532586, 56.34410505241708, 49.17585474074107, 39.55756098525245, 43.09627988659505, 38.1437491506999, 42.241263471026905, 37.81179830646052, 34.14870456360359, 32.53272905002404, 9.556460759851603, 7.4233397709645725, 54.37757336718405, 12.18779027978445, 6.668058984564069, 10.209720147178448, 12.286771391031275, 18.812977765391395, 6.915417282746868, 7.884822913921452, 5.9101600663435825, 15.598046237642578, 16.028667209702704, 5.78681842360695, 23.984328775376714, 9.882598939406142, 10.43566590627116, 13.483391979953064, 8.46795416044647, 11.382958863813892, 23.419535374127328, 5.853127499782757, 7.405966931722715, 9.679017072267598, 4.961278425975583, 19.1238156568632, 8.612598570788872, 11.537140286248986, 20.53850248758552, 66.27516388680189, 25.29683309962302, 22.169239260008382, 257.8325206402782, 18.078429590230357, 22.091256723746607, 24.02675627325548, 46.053071968429336, 24.33850510420908, 83.0991151239735, 43.2000488325724, 29.943769138530463, 143.40571177674647, 55.91634020405991, 18.039476550974605, 53.78820644499767, 31.671856287612233, 43.87788392534339, 34.58283876718863, 23.702145064199204, 40.464613347617444, 51.8789908855247, 42.96912021266919, 44.84491281273813, 34.35132033035477, 27.989568023305388, 37.04464943998209, 27.981526852484063, 39.72163188260155, 26.506512672291038, 33.09617897937581, 26.40179613752034, 25.50497294093127, 24.545703422935425, 36.7426658146667, 99.43455470226571, 33.43592767309098, 38.0644983350462, 42.096606220619584, 44.861007718896005, 12.623312234549308, 44.53583757774463, 214.90016611898034, 6.232241882496786, 11.666375037027331, 10.252527158055667, 6.382303525246184, 17.67888761521191, 20.69812884629923, 15.376878250338804, 14.830252788501728, 10.284984657043996, 19.64836592103022, 9.566574142691774, 12.492206470472986, 10.975944401874814, 4.4097865293370715, 17.851660183734577, 33.42001864258745, 7.001768975836239, 36.68043132827616, 50.42205144263064, 4.879635146709047, 15.59269750405475, 41.49576760619341, 30.568886666822845, 18.89693228089701, 55.90456938521022, 183.66294788687273, 132.83511516161764, 113.58408807715544, 31.59250955388807, 41.60123524814845, 37.45558555354674, 24.968110768743145, 27.399132767775768, 38.59700798978286, 32.25220132530689, 33.943089788701485, 36.08812373333273, 39.392011986068496, 29.37477702720201, 29.836269441064243, 24.90657554624463, 43.90044171732035, 22.3881797585355, 18.575497176214746, 9.82914496294743, 7.644875040997535, 7.616901569496596, 10.805328454913914, 108.01098597050047, 12.583797690168321, 42.173805087626604, 31.899088227795904, 6.985932325642206, 6.911392916606009, 15.088817824454939, 6.680714150232145, 8.842900849097461, 12.450187688890788, 10.093876391223407, 10.823909426378814, 7.884012373642189, 26.920152264068953, 8.841948955067497, 5.9375891597144355, 19.787822228671207, 5.9379365112340485, 11.662746463596184, 7.466250869056231, 6.698648552167258, 22.4126861805356, 8.22554548589803, 13.889734515968517, 17.925493643814015, 14.354464268019377, 90.44292171003741, 77.62598828928203, 63.1219049584276, 44.07361890017849, 71.33583805557065, 26.63866750086561, 20.598212361809715, 65.35419057048065, 42.70896062968304, 22.46837736936792, 49.463689749221665, 21.88332390146606, 28.172327551877952, 47.43535515600226, 38.427658820384465, 33.548360658018865, 22.68404997536602, 29.782639139057128, 32.23786192498073, 33.0989201201157, 24.725042963157474, 29.22159207938567, 29.357983766462464, 22.399205924250133, 23.24317887876578, 16.999238779092167, 55.1055400626984, 142.97854920651318, 23.618919655144936, 16.805559553630978, 32.39851849798126, 18.93748713293389, 16.17235053522357, 14.269883393122607, 32.71332437794584, 30.165802503512598, 10.252621412609024, 7.763602138326991, 14.274541523896858, 11.376476240735165, 5.211780264191975, 5.061551733129178, 128.4819137207561, 10.814644513192912, 4.370457569982061, 26.128868622404156, 4.572162675721898, 12.513019240197718, 22.617811218570218, 57.00285122676463, 17.312766065256852, 7.722359167713239, 4.2458577721252535, 11.034880908464247, 13.872692805496019, 24.49510309836819, 20.004165797969126, 21.50243504824514, 29.858515642618567, 23.5217104705622, 47.96965536854064, 68.29500892138448, 38.222532671175095, 47.79775800079638, 43.32857898317433, 39.471868583882376, 65.89843045339781, 24.613538049438176, 28.866512679894317, 42.36890697039675, 31.375707249076374, 38.97896096669332, 33.525151008733424, 26.34781602316681, 23.99629342563427, 21.44519648090153, 10.903359922203387, 44.67062236544845, 8.930384793156572, 31.012767557474195, 12.716061163670659, 10.421525925724893, 36.2586791069692, 8.930077595709836, 11.286006952302861, 8.928606828857157, 13.642609307609964, 60.3748583138956, 6.777997848210048, 6.708406756460974, 9.645836303928421, 6.647443186850601, 5.012957581686593, 6.947780205683239, 9.486619175565647, 22.63402808948393, 14.749486133674617, 14.65653858374452, 4.947494751010186, 16.56351919422635, 12.820850466255221, 6.59312358909593, 13.083554380028401, 8.37159547321357, 10.323566803909902, 44.026989836831696, 53.48887914532368, 29.659786822435034, 22.2862786893336, 18.97476772180458, 49.20837668939147, 17.597608184650053, 28.67656216740741, 19.91093161843816, 40.165069895706615, 47.87543846100024, 16.697861836409775, 23.050992382663946, 16.3901388457347, 21.3899181295678, 23.049771154660306, 27.532434106340165, 24.87396063541257, 30.383789764901085, 21.898336520475322, 17.40301514354414, 18.129044643935732, 17.43989774161065], \"Total\": [938.0, 301.0, 624.0, 429.0, 244.0, 727.0, 254.0, 160.0, 249.0, 169.0, 615.0, 272.0, 132.0, 316.0, 537.0, 669.0, 204.0, 102.0, 104.0, 262.0, 142.0, 202.0, 181.0, 337.0, 195.0, 285.0, 107.0, 193.0, 308.0, 89.0, 46.42607350737202, 60.938422661193634, 39.65772172683217, 22.254205591269017, 18.386943492895597, 72.60608831653002, 10.64990135804614, 12.584943335422789, 20.33188936626091, 20.35680851303041, 29.043200514298718, 19.38898098235874, 204.94019680361046, 21.352787565074497, 29.080299452595124, 22.340788216593335, 30.075145843324574, 30.13287365409365, 13.616504472992304, 41.72198731515846, 30.099062766632937, 13.596821897342277, 50.598238150431136, 12.649162671034091, 13.609525815227583, 727.5145432906571, 21.365149250039394, 12.58486742812111, 33.07396292215786, 10.628569798044287, 27.299762621275136, 33.212864899995104, 37.99972795218469, 615.499394961519, 308.61587847722063, 134.2584880995775, 546.2326023178537, 496.925278804882, 114.30724489289723, 381.13811196657906, 537.3778480999632, 78.84297235860267, 130.97828360579186, 337.10947714882974, 134.3001955786407, 669.1669459582247, 272.0612766687938, 167.79741032793333, 115.37788787709901, 130.51728734777888, 136.54090860495296, 249.73511674930268, 249.71205073674108, 74.16312557344799, 107.53057371987846, 428.43839454650185, 624.8666080726441, 63.49906889103411, 57.73280620947017, 13.683733070644635, 19.527251018110576, 24.440638514393545, 30.346059359469315, 18.604688392847613, 22.51380360296112, 9.767392043880882, 10.77482983611327, 13.693314545134346, 24.490522151013877, 12.704175025144508, 18.63155551858536, 10.76070489539197, 13.676656660953455, 11.730795095466705, 23.46924963954443, 27.40690672181296, 19.623778923812754, 202.4393250351899, 37.153081285135855, 61.655679764832016, 21.505458216516214, 17.621861111385, 13.620635955473352, 12.689369278665595, 22.55579355383068, 41.09421501161306, 9.791705947165914, 40.23044216729103, 537.3778480999632, 58.80374672246833, 938.6024841027956, 193.53587032050336, 260.4371927911267, 68.65388268277344, 69.51138259273485, 113.8633783149976, 97.20041269567986, 354.32392258765253, 163.74738359889847, 429.95918815369737, 75.86947559718188, 213.90366008908296, 111.2277628723536, 624.8666080726441, 60.783218404155406, 59.7967843000635, 84.31931029310698, 381.13811196657906, 80.6675048905215, 294.2187809610731, 136.54090860495296, 428.43839454650185, 727.5145432906571, 110.82944783658091, 180.8536951704513, 406.16963280948056, 125.16889554854697, 496.925278804882, 546.2326023178537, 107.58989734232168, 41.45198658476974, 17.761274577726688, 17.761456710403866, 14.80030379751526, 15.786751723734255, 244.4760477809245, 57.2709676575905, 254.23230509401327, 37.49523620970342, 34.48977262929232, 98.54774340992041, 11.835440092607207, 9.84172780959213, 15.74169038658958, 13.786612554449443, 16.73347253417948, 70.82377861360482, 28.59117907692155, 23.64662758908193, 11.770674627457439, 19.623206810123552, 32.40396701339094, 70.60550121248275, 15.72332833453491, 14.758917607849815, 12.7503677607743, 45.22169210997854, 22.576283947068642, 21.5687120026658, 26.60866129891532, 142.73797355257167, 46.021844800970925, 115.21532001917463, 179.71823309003983, 92.08393542405092, 669.1669459582247, 56.407643061881956, 51.18229765421861, 70.19789452524239, 60.149251873722925, 249.73511674930268, 177.5149044235027, 158.9858731300837, 216.19729484537942, 615.499394961519, 180.71437928164016, 114.30724489289723, 546.2326023178537, 128.2782527024626, 204.94019680361046, 301.7374421605919, 219.22875696595298, 727.5145432906571, 121.78507249618792, 428.43839454650185, 260.4371927911267, 41.71900661199344, 36.74984112804985, 24.828943147069943, 35.74637688647096, 90.36874875887347, 13.896479366466806, 11.909113279286235, 9.918061565408125, 43.68634259515759, 15.87739251836005, 34.73732449804634, 80.31215834710754, 12.897513600016552, 23.783668860838038, 10.910283310910884, 22.783398972940788, 18.81753288378726, 8.901936002880182, 15.866734163575952, 11.894764337074328, 16.88267138851737, 18.807587212332013, 181.00951788010823, 63.46373071624829, 34.55986122814359, 9.871936911162837, 59.38355253582318, 9.857033105789872, 20.818760305783933, 59.366099231216594, 272.0612766687938, 262.7393627070507, 109.55661610900317, 180.71437928164016, 55.48420920568839, 496.925278804882, 128.2782527024626, 121.08576079999408, 64.2963726685888, 251.63694700753797, 102.39247655578484, 669.1669459582247, 92.08393542405092, 119.93740241916672, 97.21806540478413, 546.2326023178537, 260.4371927911267, 104.70557600080068, 98.13676527768318, 406.16963280948056, 381.13811196657906, 147.07310660749587, 428.43839454650185, 134.2584880995775, 126.96266707997886, 727.5145432906571, 89.33740365060959, 63.40330627753277, 169.07427301683668, 51.879639012399956, 26.9102723132578, 63.4151316398907, 47.11796679184772, 72.11900971178329, 36.55388378120154, 14.425498194883138, 14.425651207822765, 13.465142871680381, 12.50479165998546, 11.544520637954172, 51.0077534840608, 9.62565215166457, 35.655904124669064, 15.421761377711793, 30.776713195320372, 25.046947287541606, 54.9916247541931, 13.491971728928705, 30.93964649844031, 20.249373224298004, 29.88289547917497, 16.377134837473044, 16.398277917397444, 17.37124006297015, 11.584771973796588, 18.332082489635436, 17.354253962184007, 429.95918815369737, 83.20013014601129, 36.71673236760665, 61.03354668604491, 125.16889554854697, 41.7951561895185, 24.155484210447764, 316.8836322178254, 77.56079666885287, 115.37788787709901, 406.16963280948056, 202.4393250351899, 80.70788002764549, 354.32392258765253, 294.2187809610731, 938.6024841027956, 294.98084514370873, 239.39721386766257, 163.74738359889847, 337.10947714882974, 219.22875696595298, 669.1669459582247, 727.5145432906571, 183.36171289984625, 35.199931870088804, 10.750747897948674, 8.805262314308578, 66.59254070639078, 15.637030793656058, 8.813909114455173, 13.672155178001088, 16.665597482153505, 26.31203829826102, 9.787445993259908, 11.757706131791542, 8.816674916169642, 23.3960325002989, 24.360998361110155, 8.811110688251455, 37.98384973334338, 15.657306262663175, 16.61506885351453, 21.508428066974446, 13.718315961284812, 18.495935554642283, 38.28046033676566, 9.72482391668554, 12.630457851983477, 16.68575844699507, 8.826148003068319, 34.368981888045084, 15.687679911386642, 21.588858419747538, 39.06860745638922, 136.39014251422492, 49.53535459569594, 43.09766348744215, 624.8666080726441, 36.00307636739519, 45.722781536790954, 53.737241247651596, 125.14521929760284, 54.95968452787974, 308.61587847722063, 127.20485992278427, 80.26279228607244, 938.6024841027956, 239.39721386766257, 40.301324914619364, 285.18777727799164, 111.99030394265614, 213.90366008908296, 145.57959838630373, 67.38086899890733, 216.19729484537942, 428.43839454650185, 294.98084514370873, 354.32392258765253, 189.00814845098532, 114.14507959945206, 294.2187809610731, 130.51728734777888, 546.2326023178537, 114.37138299522762, 669.1669459582247, 251.63694700753797, 189.39936856619406, 301.7374421605919, 37.66555113274115, 102.10305510651888, 34.68957693003618, 42.559386040744705, 49.46290726599281, 53.55533880279974, 16.829527905510528, 60.51855607696992, 301.7374421605919, 8.887240724016756, 16.76679215753959, 15.705078690514332, 9.875630322961136, 28.63602931639573, 34.46297087297346, 25.759043005465536, 25.580864013009784, 17.747108864173956, 34.732769186637874, 17.74332058197381, 23.597936801761282, 20.77089996460424, 8.911571260813457, 36.51873539888296, 70.05910327072598, 14.789803027686862, 80.6675048905215, 111.2277628723536, 10.802425884671527, 36.38253233034657, 105.27590211526332, 80.65180792614527, 49.10435142700754, 193.53587032050336, 938.6024841027956, 624.8666080726441, 615.499394961519, 113.8633783149976, 216.19729484537942, 189.39936856619406, 89.42123005318479, 112.5224503981711, 249.71205073674108, 180.8536951704513, 213.90366008908296, 294.2187809610731, 428.43839454650185, 285.18777727799164, 354.32392258765253, 157.1532930602948, 44.78962150772291, 23.372899852145807, 19.477801040942314, 10.715984850119309, 8.765769774533712, 8.767059500347624, 12.656400258870265, 132.7228355795122, 15.592355630364512, 52.59169437967059, 39.93361178452588, 8.756787722733854, 8.772342783407957, 19.548533287008617, 8.752731904177143, 11.716500195344057, 16.612331509788586, 13.679306722326556, 14.673168846992008, 10.756246715305743, 37.06933994091017, 12.71669335320946, 8.755668067328086, 29.247654275397384, 8.77695286976264, 17.563709812181216, 11.669544118362788, 10.705860622929613, 36.12673448920023, 13.672879205925614, 23.365934537577928, 34.05998363118303, 26.302464180520673, 316.8836322178254, 337.10947714882974, 251.63694700753797, 148.88773732905526, 429.95918815369737, 84.21227992565647, 54.829366456595686, 428.43839454650185, 262.7393627070507, 78.88954929770077, 546.2326023178537, 82.38106320246038, 157.93861793842933, 615.499394961519, 354.32392258765253, 381.13811196657906, 118.89112573515047, 294.98084514370873, 406.16963280948056, 496.925278804882, 167.79741032793333, 537.3778480999632, 727.5145432906571, 127.74599656279803, 308.61587847722063, 17.890524044463135, 59.622895347377764, 160.02336010300675, 26.796476872833754, 19.871016934323936, 40.69716031918153, 24.793625847376624, 21.786323149482456, 19.748135559725892, 46.633670885348685, 44.566461981894676, 16.80782197912883, 12.883996156124734, 23.70638337893627, 19.74787379788114, 9.874041377907231, 9.81270413596126, 249.71205073674108, 21.734628377575046, 8.864024816967, 55.23854327397132, 9.85629604906637, 27.518385793636845, 51.21405428348025, 129.92586132780832, 39.60231063968219, 17.7652805438159, 9.847768945628863, 27.558619333540552, 34.732769186637874, 64.04578051700199, 52.051496035919435, 56.407643061881956, 82.38106320246038, 68.81887218146467, 179.71823309003983, 294.98084514370873, 195.0755636597479, 316.8836322178254, 285.18777727799164, 294.2187809610731, 938.6024841027956, 119.37171439163812, 177.5149044235027, 546.2326023178537, 239.39721386766257, 615.499394961519, 406.16963280948056, 216.19729484537942, 219.22875696595298, 428.43839454650185, 11.801471996732202, 53.118653787979795, 10.794195832317866, 39.414754333199404, 16.733174093930515, 14.672641193502983, 52.13293485083479, 13.756157220647259, 17.698791592297, 14.710208885692817, 23.46507259328169, 104.70557600080068, 11.843641344984144, 11.799507586848097, 18.57053127019605, 12.813500721347818, 9.810217314664426, 13.665337577273077, 18.696998518766108, 46.38859073205994, 33.30922785307699, 34.325627133928904, 11.801398942272819, 40.341855211539155, 32.34104805328407, 17.649346101440592, 35.16001946546119, 23.48272638584838, 33.20244890334371, 142.73797355257167, 195.0755636597479, 104.37104045001828, 77.21051903579321, 72.84710534794651, 285.18777727799164, 67.64548974514103, 157.1532930602948, 86.10241290897025, 337.10947714882974, 669.1669459582247, 67.38086899890733, 147.15005973495965, 65.54724631698627, 148.88773732905526, 189.00814845098532, 428.43839454650185, 406.16963280948056, 938.6024841027956, 624.8666080726441, 181.00951788010823, 316.8836322178254, 308.61587847722063], \"Category\": [\"Default\", \"Default\", \"Default\", \"Default\", \"Default\", \"Default\", \"Default\", \"Default\", \"Default\", \"Default\", \"Default\", \"Default\", \"Default\", \"Default\", \"Default\", \"Default\", \"Default\", \"Default\", \"Default\", \"Default\", \"Default\", \"Default\", \"Default\", \"Default\", \"Default\", \"Default\", \"Default\", \"Default\", \"Default\", \"Default\", \"Topic1\", \"Topic1\", \"Topic1\", \"Topic1\", \"Topic1\", \"Topic1\", \"Topic1\", \"Topic1\", \"Topic1\", \"Topic1\", \"Topic1\", \"Topic1\", \"Topic1\", \"Topic1\", \"Topic1\", \"Topic1\", \"Topic1\", \"Topic1\", \"Topic1\", \"Topic1\", \"Topic1\", \"Topic1\", \"Topic1\", \"Topic1\", \"Topic1\", \"Topic1\", \"Topic1\", \"Topic1\", \"Topic1\", \"Topic1\", \"Topic1\", \"Topic1\", \"Topic1\", \"Topic1\", \"Topic1\", \"Topic1\", \"Topic1\", \"Topic1\", \"Topic1\", \"Topic1\", \"Topic1\", \"Topic1\", \"Topic1\", \"Topic1\", \"Topic1\", \"Topic1\", \"Topic1\", \"Topic1\", \"Topic1\", \"Topic1\", \"Topic1\", \"Topic1\", \"Topic1\", \"Topic1\", \"Topic1\", \"Topic1\", \"Topic1\", \"Topic2\", \"Topic2\", \"Topic2\", \"Topic2\", \"Topic2\", \"Topic2\", \"Topic2\", \"Topic2\", \"Topic2\", \"Topic2\", \"Topic2\", \"Topic2\", \"Topic2\", \"Topic2\", \"Topic2\", \"Topic2\", \"Topic2\", \"Topic2\", \"Topic2\", \"Topic2\", \"Topic2\", \"Topic2\", \"Topic2\", \"Topic2\", \"Topic2\", \"Topic2\", \"Topic2\", \"Topic2\", \"Topic2\", \"Topic2\", \"Topic2\", \"Topic2\", \"Topic2\", \"Topic2\", \"Topic2\", \"Topic2\", \"Topic2\", \"Topic2\", \"Topic2\", \"Topic2\", \"Topic2\", \"Topic2\", \"Topic2\", \"Topic2\", \"Topic2\", \"Topic2\", \"Topic2\", \"Topic2\", \"Topic2\", \"Topic2\", \"Topic2\", \"Topic2\", \"Topic2\", \"Topic2\", \"Topic2\", \"Topic2\", \"Topic2\", \"Topic2\", \"Topic2\", \"Topic2\", \"Topic2\", \"Topic2\", \"Topic3\", \"Topic3\", \"Topic3\", \"Topic3\", \"Topic3\", \"Topic3\", \"Topic3\", \"Topic3\", \"Topic3\", \"Topic3\", \"Topic3\", \"Topic3\", \"Topic3\", \"Topic3\", \"Topic3\", \"Topic3\", \"Topic3\", \"Topic3\", \"Topic3\", \"Topic3\", \"Topic3\", \"Topic3\", \"Topic3\", \"Topic3\", \"Topic3\", \"Topic3\", \"Topic3\", \"Topic3\", \"Topic3\", \"Topic3\", \"Topic3\", \"Topic3\", \"Topic3\", \"Topic3\", \"Topic3\", \"Topic3\", \"Topic3\", \"Topic3\", \"Topic3\", \"Topic3\", \"Topic3\", \"Topic3\", \"Topic3\", \"Topic3\", \"Topic3\", \"Topic3\", \"Topic3\", \"Topic3\", \"Topic3\", \"Topic3\", \"Topic3\", \"Topic3\", \"Topic3\", \"Topic3\", \"Topic3\", \"Topic3\", \"Topic3\", \"Topic4\", \"Topic4\", \"Topic4\", \"Topic4\", \"Topic4\", \"Topic4\", \"Topic4\", \"Topic4\", \"Topic4\", \"Topic4\", \"Topic4\", \"Topic4\", \"Topic4\", \"Topic4\", \"Topic4\", \"Topic4\", \"Topic4\", \"Topic4\", \"Topic4\", \"Topic4\", \"Topic4\", \"Topic4\", \"Topic4\", \"Topic4\", \"Topic4\", \"Topic4\", \"Topic4\", \"Topic4\", \"Topic4\", \"Topic4\", \"Topic4\", \"Topic4\", \"Topic4\", \"Topic4\", \"Topic4\", \"Topic4\", \"Topic4\", \"Topic4\", \"Topic4\", \"Topic4\", \"Topic4\", \"Topic4\", \"Topic4\", \"Topic4\", \"Topic4\", \"Topic4\", \"Topic4\", \"Topic4\", \"Topic4\", \"Topic4\", \"Topic4\", \"Topic4\", \"Topic4\", \"Topic4\", \"Topic4\", \"Topic4\", \"Topic5\", \"Topic5\", \"Topic5\", \"Topic5\", \"Topic5\", \"Topic5\", \"Topic5\", \"Topic5\", \"Topic5\", \"Topic5\", \"Topic5\", \"Topic5\", \"Topic5\", \"Topic5\", \"Topic5\", \"Topic5\", \"Topic5\", \"Topic5\", \"Topic5\", \"Topic5\", \"Topic5\", \"Topic5\", \"Topic5\", \"Topic5\", \"Topic5\", \"Topic5\", \"Topic5\", \"Topic5\", \"Topic5\", \"Topic5\", \"Topic5\", \"Topic5\", \"Topic5\", \"Topic5\", \"Topic5\", \"Topic5\", \"Topic5\", \"Topic5\", \"Topic5\", \"Topic5\", \"Topic5\", \"Topic5\", \"Topic5\", \"Topic5\", \"Topic5\", \"Topic5\", \"Topic5\", \"Topic5\", \"Topic5\", \"Topic5\", \"Topic5\", \"Topic5\", \"Topic5\", \"Topic5\", \"Topic5\", \"Topic6\", \"Topic6\", \"Topic6\", \"Topic6\", \"Topic6\", \"Topic6\", \"Topic6\", \"Topic6\", \"Topic6\", \"Topic6\", \"Topic6\", \"Topic6\", \"Topic6\", \"Topic6\", \"Topic6\", \"Topic6\", \"Topic6\", \"Topic6\", \"Topic6\", \"Topic6\", \"Topic6\", \"Topic6\", \"Topic6\", \"Topic6\", \"Topic6\", \"Topic6\", \"Topic6\", \"Topic6\", \"Topic6\", \"Topic6\", \"Topic6\", \"Topic6\", \"Topic6\", \"Topic6\", \"Topic6\", \"Topic6\", \"Topic6\", \"Topic6\", \"Topic6\", \"Topic6\", \"Topic6\", \"Topic6\", \"Topic6\", \"Topic6\", \"Topic6\", \"Topic6\", \"Topic6\", \"Topic6\", \"Topic6\", \"Topic6\", \"Topic6\", \"Topic6\", \"Topic6\", \"Topic6\", \"Topic6\", \"Topic6\", \"Topic6\", \"Topic6\", \"Topic6\", \"Topic6\", \"Topic6\", \"Topic6\", \"Topic6\", \"Topic6\", \"Topic7\", \"Topic7\", \"Topic7\", \"Topic7\", \"Topic7\", \"Topic7\", \"Topic7\", \"Topic7\", \"Topic7\", \"Topic7\", \"Topic7\", \"Topic7\", \"Topic7\", \"Topic7\", \"Topic7\", \"Topic7\", \"Topic7\", \"Topic7\", \"Topic7\", \"Topic7\", \"Topic7\", \"Topic7\", \"Topic7\", \"Topic7\", \"Topic7\", \"Topic7\", \"Topic7\", \"Topic7\", \"Topic7\", \"Topic7\", \"Topic7\", \"Topic7\", \"Topic7\", \"Topic7\", \"Topic7\", \"Topic7\", \"Topic7\", \"Topic7\", \"Topic7\", \"Topic7\", \"Topic7\", \"Topic7\", \"Topic7\", \"Topic7\", \"Topic7\", \"Topic7\", \"Topic7\", \"Topic7\", \"Topic7\", \"Topic7\", \"Topic8\", \"Topic8\", \"Topic8\", \"Topic8\", \"Topic8\", \"Topic8\", \"Topic8\", \"Topic8\", \"Topic8\", \"Topic8\", \"Topic8\", \"Topic8\", \"Topic8\", \"Topic8\", \"Topic8\", \"Topic8\", \"Topic8\", \"Topic8\", \"Topic8\", \"Topic8\", \"Topic8\", \"Topic8\", \"Topic8\", \"Topic8\", \"Topic8\", \"Topic8\", \"Topic8\", \"Topic8\", \"Topic8\", \"Topic8\", \"Topic8\", \"Topic8\", \"Topic8\", \"Topic8\", \"Topic8\", \"Topic8\", \"Topic8\", \"Topic8\", \"Topic8\", \"Topic8\", \"Topic8\", \"Topic8\", \"Topic8\", \"Topic8\", \"Topic8\", \"Topic8\", \"Topic8\", \"Topic8\", \"Topic8\", \"Topic8\", \"Topic8\", \"Topic8\", \"Topic8\", \"Topic8\", \"Topic8\", \"Topic8\", \"Topic8\", \"Topic8\", \"Topic9\", \"Topic9\", \"Topic9\", \"Topic9\", \"Topic9\", \"Topic9\", \"Topic9\", \"Topic9\", \"Topic9\", \"Topic9\", \"Topic9\", \"Topic9\", \"Topic9\", \"Topic9\", \"Topic9\", \"Topic9\", \"Topic9\", \"Topic9\", \"Topic9\", \"Topic9\", \"Topic9\", \"Topic9\", \"Topic9\", \"Topic9\", \"Topic9\", \"Topic9\", \"Topic9\", \"Topic9\", \"Topic9\", \"Topic9\", \"Topic9\", \"Topic9\", \"Topic9\", \"Topic9\", \"Topic9\", \"Topic9\", \"Topic9\", \"Topic9\", \"Topic9\", \"Topic9\", \"Topic9\", \"Topic9\", \"Topic9\", \"Topic9\", \"Topic9\", \"Topic9\", \"Topic9\", \"Topic9\", \"Topic9\", \"Topic9\", \"Topic9\", \"Topic10\", \"Topic10\", \"Topic10\", \"Topic10\", \"Topic10\", \"Topic10\", \"Topic10\", \"Topic10\", \"Topic10\", \"Topic10\", \"Topic10\", \"Topic10\", \"Topic10\", \"Topic10\", \"Topic10\", \"Topic10\", \"Topic10\", \"Topic10\", \"Topic10\", \"Topic10\", \"Topic10\", \"Topic10\", \"Topic10\", \"Topic10\", \"Topic10\", \"Topic10\", \"Topic10\", \"Topic10\", \"Topic10\", \"Topic10\", \"Topic10\", \"Topic10\", \"Topic10\", \"Topic10\", \"Topic10\", \"Topic10\", \"Topic10\", \"Topic10\", \"Topic10\", \"Topic10\", \"Topic10\", \"Topic10\", \"Topic10\", \"Topic10\", \"Topic10\", \"Topic10\", \"Topic10\", \"Topic10\", \"Topic10\", \"Topic10\", \"Topic10\", \"Topic10\"], \"logprob\": [30.0, 29.0, 28.0, 27.0, 26.0, 25.0, 24.0, 23.0, 22.0, 21.0, 20.0, 19.0, 18.0, 17.0, 16.0, 15.0, 14.0, 13.0, 12.0, 11.0, 10.0, 9.0, 8.0, 7.0, 6.0, 5.0, 4.0, 3.0, 2.0, 1.0, -5.1118, -4.8423, -5.2729, -5.8721, -6.077, -4.7054, -6.6518, -6.4999, -6.0252, -6.0457, -5.701, -6.1145, -3.8564, -6.1208, -5.8209, -6.0884, -5.7947, -5.8317, -6.629, -5.516, -5.8449, -6.6508, -5.3423, -6.7516, -6.7572, -2.7847, -6.317, -6.8756, -5.9095, -7.047, -6.1059, -5.9193, -5.7895, -3.2875, -4.0033, -4.8048, -3.7012, -3.7836, -4.9761, -4.0632, -3.9216, -5.3029, -4.9773, -4.3866, -5.0436, -4.1198, -4.6357, -4.9456, -5.1612, -5.1113, -5.0947, -4.8668, -4.9639, -5.439, -5.3471, -5.238, -5.2558, -4.6683, -4.777, -6.2321, -5.9152, -5.6989, -5.4846, -6.003, -5.8346, -6.6941, -6.6102, -6.3978, -5.8189, -6.4786, -6.1311, -6.6997, -6.4668, -6.6221, -5.9325, -5.7795, -6.1337, -3.8322, -5.5296, -5.04, -6.104, -6.3105, -6.5846, -6.6683, -6.0939, -5.5112, -6.9721, -5.5963, -3.1658, -5.2498, -2.7798, -4.2092, -4.0008, -5.1436, -5.1384, -4.7384, -4.8808, -3.8506, -4.4758, -3.809, -5.1276, -4.4484, -4.9113, -3.7813, -5.3226, -5.3344, -5.1514, -4.343, -5.2253, -4.6043, -4.9738, -4.4376, -4.1953, -5.0777, -4.9193, -4.6862, -5.1151, -4.8799, -5.1182, -4.0842, -5.0518, -5.9308, -5.9313, -6.123, -6.0679, -3.3339, -4.7881, -3.3296, -5.2492, -5.3611, -4.325, -6.4594, -6.6581, -6.2592, -6.4133, -6.2269, -4.8065, -5.7149, -5.9258, -6.6642, -6.1634, -5.6683, -4.8913, -6.4091, -6.4748, -6.6253, -5.3631, -6.0721, -6.1339, -5.931, -4.3525, -5.4362, -4.6275, -4.3142, -4.8924, -3.3809, -5.4052, -5.479, -5.3232, -5.4259, -4.6349, -4.8562, -4.9266, -4.8031, -4.3321, -4.9255, -5.1399, -4.5068, -5.1113, -4.9656, -4.8623, -5.1091, -4.8774, -5.2387, -5.0591, -5.2226, -5.0118, -5.1428, -5.542, -5.1801, -4.2729, -6.1681, -6.3289, -6.546, -5.0634, -6.0967, -5.316, -4.4819, -6.3292, -5.7259, -6.5282, -5.8006, -5.9994, -6.7713, -6.2004, -6.4948, -6.1474, -6.044, -3.7975, -4.8552, -5.4698, -6.7255, -4.9343, -6.7657, -6.0362, -4.9953, -3.5143, -3.6275, -4.5266, -4.1604, -5.2455, -3.5033, -4.5975, -4.7022, -5.1774, -4.2223, -4.8627, -3.5809, -4.9394, -4.8488, -4.9848, -4.0257, -4.4409, -4.9477, -5.0047, -4.5212, -4.6256, -4.9785, -4.8053, -5.0225, -5.0332, -5.0316, -4.0143, -4.3595, -3.3811, -4.5636, -5.2363, -4.3795, -4.6896, -4.2748, -4.9573, -5.8892, -5.8898, -5.9627, -6.0421, -6.1286, -4.6631, -6.3397, -5.0361, -5.8949, -5.2279, -5.4568, -4.6856, -6.094, -5.319, -5.7495, -5.3631, -5.9711, -5.9725, -5.9164, -6.3387, -5.8959, -5.9665, -3.1419, -4.6073, -5.3111, -4.9279, -4.4234, -5.2591, -5.6887, -3.9308, -4.9294, -4.6834, -4.0507, -4.5396, -5.0268, -4.2978, -4.3934, -3.9514, -4.4633, -4.5994, -4.8171, -4.7314, -4.8535, -4.7514, -4.8622, -4.9641, -4.9712, -6.1962, -6.4488, -4.4575, -5.953, -6.5561, -6.1301, -5.9449, -5.5189, -6.5197, -6.3885, -6.6768, -5.7063, -5.6791, -6.6979, -5.276, -6.1627, -6.1082, -5.852, -6.3172, -6.0213, -5.2999, -6.6865, -6.4512, -6.1835, -6.8518, -5.5025, -6.3002, -6.0079, -5.4311, -4.2596, -5.2228, -5.3547, -2.9011, -5.5587, -5.3583, -5.2743, -4.6236, -5.2614, -4.0334, -4.6876, -5.0541, -3.4878, -4.4296, -5.5609, -4.4684, -4.998, -4.672, -4.9101, -5.2879, -4.753, -4.5045, -4.693, -4.6502, -4.9168, -5.1216, -4.8413, -5.1219, -4.7715, -5.1761, -4.954, -5.18, -5.2146, -5.2529, -4.5089, -3.5133, -4.6032, -4.4736, -4.3729, -4.3093, -5.5773, -4.3165, -2.7427, -6.2831, -5.6561, -5.7853, -6.2593, -5.2405, -5.0828, -5.38, -5.4162, -5.7821, -5.1348, -5.8546, -5.5877, -5.7171, -6.629, -5.2307, -4.6037, -6.1667, -4.5106, -4.1924, -6.5278, -5.366, -4.3872, -4.6928, -5.1738, -4.0892, -2.8997, -3.2237, -3.3803, -4.6599, -4.3847, -4.4897, -4.8952, -4.8023, -4.4597, -4.6392, -4.5881, -4.5269, -4.4393, -4.7327, -4.7171, -4.8977, -4.2526, -4.926, -5.1126, -5.7491, -6.0004, -6.0041, -5.6544, -3.3523, -5.5021, -4.2927, -4.5719, -6.0906, -6.1013, -5.3205, -6.1353, -5.8549, -5.5127, -5.7226, -5.6527, -5.9696, -4.7416, -5.855, -6.2532, -5.0494, -6.2531, -5.5781, -6.0241, -6.1326, -4.9249, -5.9272, -5.4033, -5.1483, -5.3704, -3.5298, -3.6826, -3.8894, -4.2486, -3.7671, -4.7521, -5.0093, -3.8547, -4.2801, -4.9224, -4.1332, -4.9488, -4.6961, -4.1751, -4.3857, -4.5215, -4.9128, -4.6406, -4.5613, -4.535, -4.8267, -4.6596, -4.6549, -4.9255, -4.8885, -5.1659, -3.9898, -3.0363, -4.837, -5.1773, -4.5209, -5.0579, -5.2157, -5.3409, -4.5112, -4.5923, -5.6715, -5.9496, -5.3405, -5.5675, -6.3481, -6.3773, -3.1432, -5.6181, -6.5242, -4.736, -6.479, -5.4723, -4.8803, -3.9559, -5.1476, -5.9549, -6.5531, -5.598, -5.3691, -4.8005, -5.0031, -4.9309, -4.6026, -4.8411, -4.1285, -3.7752, -4.3556, -4.132, -4.2302, -4.3234, -3.8109, -4.7957, -4.6363, -4.2526, -4.553, -4.336, -4.4867, -4.7276, -4.8211, -4.9335, -5.2266, -3.8164, -5.4263, -4.1813, -5.0729, -5.2718, -4.025, -5.4263, -5.1922, -5.4265, -5.0025, -3.5151, -5.702, -5.7124, -5.3492, -5.7215, -6.0037, -5.6773, -5.3658, -4.4963, -4.9245, -4.9308, -6.0168, -4.8085, -5.0646, -5.7297, -5.0444, -5.4909, -5.2813, -3.8309, -3.6362, -4.2259, -4.5117, -4.6726, -3.7197, -4.748, -4.2596, -4.6244, -3.9227, -3.7471, -4.8004, -4.478, -4.819, -4.5528, -4.4781, -4.3004, -4.4019, -4.2018, -4.5293, -4.7591, -4.7182, -4.757], \"loglift\": [30.0, 29.0, 28.0, 27.0, 26.0, 25.0, 24.0, 23.0, 22.0, 21.0, 20.0, 19.0, 18.0, 17.0, 16.0, 15.0, 14.0, 13.0, 12.0, 11.0, 10.0, 9.0, 8.0, 7.0, 6.0, 5.0, 4.0, 3.0, 2.0, 1.0, 1.816, 1.8134, 1.8124, 1.791, 1.777, 1.7752, 1.7482, 1.7332, 1.7283, 1.7065, 1.6959, 1.6864, 1.5865, 1.5836, 1.5747, 1.5708, 1.5672, 1.5283, 1.5253, 1.5185, 1.5162, 1.505, 1.4994, 1.4764, 1.3977, 1.3913, 1.3869, 1.3575, 1.3574, 1.3551, 1.3528, 1.3434, 1.3385, 1.0557, 1.0302, 1.061, 0.7613, 0.7736, 1.0506, 0.7592, 0.5574, 1.0953, 0.9133, 0.5586, 0.8219, 0.1397, 0.5238, 0.6973, 0.8562, 0.7828, 0.7543, 0.3785, 0.2814, 1.0203, 0.7408, -0.5325, -0.9278, 1.9463, 1.9328, 1.9173, 1.8786, 1.8705, 1.8684, 1.8392, 1.8169, 1.7924, 1.7782, 1.7509, 1.7484, 1.7451, 1.7097, 1.69, 1.6831, 1.6813, 1.6774, 1.6754, 1.6552, 1.623, 1.621, 1.6041, 1.5933, 1.5859, 1.5694, 1.5565, 1.5557, 1.5386, 1.512, 1.4747, 1.3131, 1.4416, 1.1414, 1.2909, 1.2024, 1.393, 1.3857, 1.2922, 1.308, 1.0448, 1.1915, 0.8929, 1.309, 0.9517, 1.1428, 0.5468, 1.3357, 1.3403, 1.1796, 0.4794, 1.15, 0.477, 0.8752, 0.2679, -0.0193, 0.9799, 0.6486, 0.0726, 0.8208, -0.3227, -0.6556, 2.0031, 1.9893, 1.9578, 1.9572, 1.948, 1.9386, 1.9326, 1.9298, 1.8977, 1.8922, 1.8639, 1.85, 1.8351, 1.8209, 1.7501, 1.7286, 1.7213, 1.6989, 1.6977, 1.6766, 1.6358, 1.6255, 1.6191, 1.6172, 1.6014, 1.599, 1.5947, 1.5909, 1.5766, 1.5605, 1.5534, 1.4521, 1.5003, 1.3913, 1.26, 1.3505, 0.8787, 1.3279, 1.3512, 1.1911, 1.2429, 0.6103, 0.7304, 0.7702, 0.5863, 0.011, 0.6432, 0.8868, -0.0442, 0.8001, 0.4773, 0.1937, 0.2664, -0.7014, 0.7246, -0.3537, -0.0193, 2.0228, 2.0187, 2.0116, 2.0091, 1.9888, 1.9659, 1.9594, 1.9253, 1.9252, 1.9041, 1.9018, 1.8978, 1.8794, 1.8707, 1.8477, 1.839, 1.8314, 1.808, 1.801, 1.7947, 1.792, 1.7873, 1.7696, 1.7599, 1.7531, 1.7504, 1.7473, 1.7118, 1.6935, 1.6866, 1.6453, 1.567, 1.5425, 1.4083, 1.504, 1.0538, 1.3139, 1.2669, 1.4247, 1.0153, 1.2741, 0.6787, 1.3035, 1.1299, 1.2039, 0.4369, 0.7624, 1.1667, 1.1745, 0.2377, 0.1968, 0.7962, -0.0998, 0.8433, 0.8885, -0.8556, 2.2589, 2.2566, 2.2542, 2.253, 2.2368, 2.2365, 2.2234, 2.2125, 2.2095, 2.2074, 2.2068, 2.2028, 2.1974, 2.1908, 2.1705, 2.1615, 2.1556, 2.1349, 2.111, 2.088, 2.0729, 2.0695, 2.0146, 2.008, 2.0053, 1.9986, 1.9959, 1.9944, 1.9773, 1.961, 1.9453, 1.5601, 1.7371, 1.8513, 1.7263, 1.5126, 1.7738, 1.8924, 1.0763, 1.4851, 1.3341, 0.7082, 0.9155, 1.3479, 0.5976, 0.6879, -0.0301, 0.6154, 0.6881, 0.8502, 0.2138, 0.522, -0.4918, -0.6862, 0.5901, 2.2334, 2.1944, 2.1415, 2.1095, 2.063, 2.0332, 2.0202, 2.0074, 1.9767, 1.9648, 1.9126, 1.9122, 1.9068, 1.8936, 1.8917, 1.8524, 1.852, 1.8471, 1.8452, 1.8297, 1.8267, 1.8208, 1.8045, 1.7784, 1.7676, 1.7361, 1.726, 1.7125, 1.6856, 1.6692, 1.5905, 1.6402, 1.6474, 1.4269, 1.6233, 1.5848, 1.5072, 1.3125, 1.4976, 1.0001, 1.2322, 1.3262, 0.4335, 0.8579, 1.5084, 0.6441, 1.0492, 0.7281, 0.8748, 1.2674, 0.6364, 0.2009, 0.3857, 0.2452, 0.607, 0.9065, 0.24, 0.7722, -0.309, 0.8501, -0.6944, 0.0576, 0.3072, -0.1968, 2.628, 2.6263, 2.616, 2.5412, 2.4915, 2.4756, 2.3652, 2.3461, 2.3134, 2.2979, 2.2901, 2.2263, 2.2162, 2.1705, 2.1429, 2.1369, 2.1076, 2.1072, 2.0831, 2.0351, 2.0167, 2.0149, 1.9493, 1.9371, 1.9126, 1.905, 1.8647, 1.8616, 1.8581, 1.8055, 1.7218, 1.6826, 1.6978, 1.411, 1.0215, 1.1044, 0.9629, 1.3707, 1.0047, 1.0321, 1.377, 1.2401, 0.7857, 0.9287, 0.8119, 0.5544, 0.2662, 0.3798, 0.1783, 0.8107, 2.7111, 2.6881, 2.6837, 2.6447, 2.5943, 2.5905, 2.573, 2.5251, 2.5168, 2.5104, 2.5065, 2.5052, 2.4927, 2.4722, 2.461, 2.4497, 2.4427, 2.4272, 2.4269, 2.4205, 2.4112, 2.3677, 2.3427, 2.3404, 2.3404, 2.3217, 2.2845, 2.2622, 2.2537, 2.223, 2.211, 2.0892, 2.1255, 1.4773, 1.2626, 1.3482, 1.5138, 0.9348, 1.5802, 1.7521, 0.8508, 0.9144, 1.4752, 0.3293, 1.4055, 1.0073, 0.1681, 0.5097, 0.301, 1.0746, 0.4381, 0.1975, 0.0222, 0.8162, -0.1807, -0.4789, 0.9901, 0.145, 2.7155, 2.6878, 2.654, 2.6404, 2.599, 2.5385, 2.4972, 2.4686, 2.4417, 2.4121, 2.3763, 2.2723, 2.2601, 2.2593, 2.2151, 2.1276, 2.1046, 2.1021, 2.0686, 2.0595, 2.018, 1.9985, 1.9785, 1.9493, 1.9427, 1.9392, 1.9335, 1.9253, 1.8513, 1.8488, 1.8055, 1.8103, 1.8022, 1.7517, 1.693, 1.4458, 1.3035, 1.1366, 0.875, 0.8823, 0.7579, 0.1103, 1.1876, 0.9502, 0.21, 0.7345, 0.0072, 0.2721, 0.6618, 0.5544, -0.2281, 3.0707, 2.9767, 2.9604, 2.9102, 2.8754, 2.8078, 2.7868, 2.7178, 2.7, 2.6506, 2.6076, 2.5993, 2.5918, 2.5852, 2.4949, 2.4936, 2.4785, 2.4735, 2.4714, 2.4323, 2.3353, 2.2989, 2.2806, 2.2597, 2.2246, 2.1652, 2.1613, 2.1185, 1.9817, 1.9737, 1.856, 1.8917, 1.9073, 1.8046, 1.3928, 1.8034, 1.4488, 1.6856, 1.0225, 0.5125, 1.7548, 1.2962, 1.7638, 1.2096, 1.0458, 0.4051, 0.357, -0.2806, -0.2012, 0.808, 0.2889, 0.2766]}, \"token.table\": {\"Topic\": [1, 3, 4, 5, 2, 3, 8, 1, 2, 3, 4, 5, 6, 7, 8, 9, 10, 1, 2, 3, 4, 6, 10, 5, 10, 1, 2, 9, 2, 7, 1, 3, 4, 8, 6, 8, 1, 2, 3, 4, 5, 6, 7, 9, 10, 3, 6, 1, 2, 5, 6, 1, 2, 3, 4, 5, 6, 7, 10, 1, 3, 4, 5, 6, 8, 9, 10, 3, 6, 10, 1, 3, 4, 10, 6, 7, 2, 7, 1, 2, 3, 5, 6, 7, 8, 9, 5, 8, 3, 4, 1, 3, 4, 5, 6, 9, 1, 2, 3, 8, 8, 1, 2, 3, 4, 5, 6, 7, 8, 10, 10, 1, 2, 3, 4, 5, 6, 7, 8, 10, 5, 6, 7, 8, 9, 1, 2, 5, 6, 7, 1, 2, 3, 4, 5, 6, 7, 8, 9, 10, 7, 1, 2, 3, 4, 6, 7, 9, 3, 7, 10, 2, 3, 4, 6, 8, 1, 2, 3, 4, 5, 2, 4, 6, 7, 9, 1, 3, 2, 6, 10, 3, 5, 9, 1, 3, 4, 5, 1, 2, 8, 1, 2, 3, 4, 6, 7, 9, 1, 2, 3, 4, 6, 7, 8, 9, 3, 6, 10, 1, 2, 3, 4, 5, 6, 7, 8, 9, 10, 3, 5, 6, 8, 1, 3, 5, 7, 10, 1, 2, 4, 5, 6, 7, 2, 3, 5, 6, 8, 9, 2, 3, 5, 7, 10, 2, 3, 4, 5, 6, 9, 10, 2, 7, 9, 3, 4, 5, 6, 8, 10, 1, 3, 7, 1, 4, 10, 5, 4, 1, 2, 3, 4, 9, 4, 6, 9, 2, 6, 1, 2, 3, 4, 5, 6, 7, 8, 9, 10, 1, 8, 8, 5, 7, 4, 10, 4, 1, 2, 5, 6, 7, 10, 1, 3, 8, 1, 2, 3, 4, 5, 6, 7, 9, 10, 1, 6, 1, 2, 3, 5, 6, 7, 8, 9, 10, 2, 6, 7, 8, 9, 1, 2, 3, 5, 6, 7, 9, 1, 3, 5, 5, 7, 2, 3, 6, 7, 9, 2, 6, 7, 5, 8, 9, 10, 1, 2, 5, 6, 8, 10, 2, 6, 8, 2, 5, 6, 8, 2, 1, 2, 3, 4, 5, 6, 7, 8, 9, 3, 4, 1, 2, 3, 4, 6, 8, 9, 10, 1, 2, 3, 4, 5, 6, 7, 8, 10, 1, 2, 4, 6, 7, 8, 9, 2, 7, 1, 3, 4, 8, 10, 3, 5, 9, 2, 4, 9, 10, 1, 3, 8, 9, 1, 1, 3, 4, 6, 4, 5, 1, 2, 6, 7, 8, 9, 3, 6, 7, 9, 10, 1, 2, 3, 5, 6, 7, 8, 9, 10, 6, 3, 6, 7, 1, 3, 1, 5, 7, 10, 5, 5, 6, 7, 8, 1, 3, 9, 3, 6, 8, 5, 8, 1, 2, 3, 4, 5, 6, 8, 10, 1, 2, 3, 4, 6, 7, 9, 10, 1, 2, 3, 4, 5, 6, 7, 8, 9, 10, 5, 6, 8, 2, 3, 6, 3, 4, 6, 8, 10, 1, 2, 3, 4, 6, 2, 3, 4, 6, 7, 1, 2, 3, 4, 6, 8, 9, 3, 4, 1, 3, 1, 2, 4, 5, 6, 7, 8, 2, 3, 5, 6, 7, 1, 3, 4, 1, 5, 1, 3, 3, 8, 1, 7, 9, 1, 2, 3, 4, 5, 6, 7, 8, 9, 10, 1, 2, 5, 6, 7, 9, 1, 2, 3, 5, 6, 4, 10, 1, 2, 4, 9, 1, 2, 3, 4, 6, 10, 1, 2, 3, 5, 6, 8, 9, 10, 3, 6, 9, 2, 3, 5, 6, 2, 9, 10, 2, 3, 6, 7, 9, 10, 3, 6, 1, 2, 10, 1, 4, 7, 8, 1, 2, 3, 4, 5, 6, 10, 1, 2, 5, 6, 1, 3, 4, 8, 5, 6, 3, 6, 2, 8, 2, 5, 6, 8, 8, 1, 2, 3, 5, 6, 7, 9, 1, 1, 6, 10, 1, 3, 4, 6, 1, 2, 6, 7, 8, 10, 1, 3, 4, 5, 7, 5, 8, 9, 1, 5, 1, 2, 3, 1, 2, 3, 1, 2, 3, 4, 5, 6, 7, 8, 9, 10, 1, 2, 5, 6, 2, 4, 5, 7, 5, 6, 7, 10, 2, 6, 9, 1, 2, 4, 9, 5, 6, 4, 5, 3, 9, 1, 2, 3, 4, 5, 6, 7, 8, 9, 10, 8, 9, 5, 1, 3, 5, 8, 1, 3, 6, 7, 8, 9, 1, 3, 4, 5, 7, 9, 1, 3, 7, 1, 7, 5, 1, 2, 3, 4, 5, 6, 7, 8, 9, 10, 1, 2, 3, 2, 5, 6, 7, 8, 1, 3, 7, 4, 6, 7, 8, 1, 5, 6, 1, 4, 6, 1, 3, 5, 1, 5, 4, 2, 8, 1, 2, 5, 6, 10, 2, 3, 4, 5, 8, 9, 3, 4, 6, 7, 1, 2, 3, 4, 6, 10, 4, 6, 7, 8, 9, 1, 2, 3, 4, 6, 8, 9, 1, 4, 5, 8, 10, 1, 4, 10, 1, 2, 3, 7, 8, 9, 10, 3, 5, 9, 4, 6, 1, 2, 3, 4, 5, 6, 7, 8, 9, 10, 1, 3, 4, 5, 6, 8, 9, 3, 1, 2, 3, 4, 5, 6, 9, 1, 2, 3, 5, 6, 7, 9, 10, 1, 3, 5, 6, 7, 9, 10, 7, 9, 1, 2, 3, 4, 6, 7, 9, 1, 4, 1, 2, 3, 4, 5, 6, 8, 9, 3, 6, 9, 10, 6, 10, 6, 7, 1, 9, 1, 2, 3, 4, 5, 6, 7, 8, 9, 10, 1, 6, 2, 3, 6, 7, 8, 3, 4, 9, 2, 6, 9, 1, 3, 4, 1, 2, 3, 4, 5, 6, 8, 9, 6, 9, 6, 7, 9, 4, 5, 9, 10, 3, 7, 8, 2, 4, 9, 1, 3, 8, 9, 1, 2, 3, 7, 9, 1, 3, 4, 5, 6, 9, 10, 1, 2, 8, 1, 2, 3, 4, 8, 10, 5, 10, 3, 6, 3, 6, 10, 1, 2, 6, 1, 2, 5, 8, 3, 7, 8, 1, 4, 5, 6, 9, 1, 2, 3, 4, 1, 3, 5, 2, 5, 6, 1, 2, 3, 4, 5, 6, 8, 9, 5, 8, 10, 2, 3, 7, 2, 5, 1, 2, 3, 3, 5, 6, 7, 4, 8, 1, 2, 3, 4, 5, 6, 8, 9, 10, 2, 7, 9, 1, 2, 5, 1, 2, 3, 4, 5, 6, 7, 8, 9, 1, 2, 3, 4, 5, 6, 7, 9, 10, 2, 6, 1, 2, 3, 5, 6, 7, 8, 9, 10, 3, 4, 1, 2, 3, 4, 6, 7, 4, 5, 2, 6, 3, 6, 1, 2, 4, 2, 6, 9, 1, 2, 3, 4, 5, 6, 7, 8, 9, 1, 2, 3, 4, 5, 6, 8, 9, 10, 3, 1, 2, 3, 6, 9, 1, 2, 1, 3, 7, 9, 1, 3, 8, 1, 3, 4, 5, 7, 10, 4, 10, 1, 8, 1, 3, 7, 9, 4, 1, 3, 4, 5, 6, 7, 8, 9, 10, 3, 8, 1, 2, 3, 4, 5, 6, 7, 8, 9, 10, 4, 8, 3, 5, 6, 1, 2, 3, 5, 6, 10, 1, 2, 3, 4, 7, 9, 10, 1, 3, 2, 8, 2, 6, 7, 9, 5, 2, 6, 7, 8, 5, 6, 1, 3, 4, 5, 6, 8, 1, 3, 6, 1, 2, 3, 4, 5, 6, 7, 8, 9, 10, 1, 3, 8, 7, 9, 10, 3, 4, 5, 8, 1, 2, 3, 5, 6, 7, 8, 9, 2, 3, 4, 5, 6, 7, 9, 10, 6, 8, 10, 1, 2, 5, 6, 7, 8, 9, 10, 3, 5, 6, 7, 1, 2, 3, 4, 5, 6, 7, 10, 2, 9, 1, 3, 8, 2, 5, 2, 5, 1, 2, 3, 6, 7, 9, 1, 2, 3, 4, 5, 6, 8, 1, 2, 4, 7, 3, 4, 6, 7, 10, 2, 3, 4, 5, 6, 7, 9, 10, 2, 7, 5, 6, 5, 2, 5, 6, 8, 3, 7, 1, 3, 4, 5, 9, 5, 6, 7, 4, 1, 2, 3, 4, 5, 6, 7, 8, 9, 1, 2, 3, 4, 5, 6, 8, 9, 2, 7, 5, 4, 5, 1, 2, 3, 4, 5, 6, 7, 8, 9, 10, 1, 3, 4, 5, 10, 5, 8, 10, 1, 3, 4, 7, 8, 2, 7, 8, 1, 3, 9, 10, 1, 2, 3, 4, 5, 6, 7, 8, 9, 1, 2, 3, 4, 5, 6, 7, 9, 1, 2, 3, 6, 7, 8, 10, 2, 5, 10, 1, 2, 3, 4, 5, 9, 10, 5, 8, 9, 10, 2, 6, 9, 1, 3, 8, 9, 5, 9, 2, 5, 1, 2, 3, 4, 5, 6, 7, 9, 10, 1, 6, 9, 1, 5, 8, 10, 2, 5, 6, 9, 1, 2, 5, 1, 2, 3, 4, 5, 6, 7, 9, 10, 4, 9, 10, 3, 10, 3, 5, 6, 8, 2, 3, 4, 6, 3, 6, 7, 1, 3, 1, 2, 3, 4, 5, 6, 7, 1, 2, 7, 2, 6, 7, 1, 2, 4, 5, 6, 1, 2, 3, 4, 5, 6, 7, 8, 9, 10, 2, 3, 10, 1, 2, 3, 4, 5, 6, 7, 8, 9, 10, 1, 2, 3, 4, 5, 6, 8, 9, 10, 1, 2, 3, 4, 5, 6, 7, 8, 9, 10, 4, 9, 10, 1, 3, 9, 1, 3, 6, 8, 10, 1, 3, 4, 5, 9, 1, 2, 8, 2, 3, 5, 1, 2, 3, 4, 5, 6, 7, 8, 9, 10, 1, 2, 3, 4, 5, 6, 7, 9, 10, 3, 5, 6, 1, 3, 5, 9, 5, 4, 6, 7, 3, 4, 4, 9, 1, 2, 3, 4, 5, 7, 8, 10, 1, 2, 3, 10, 2, 6, 7, 3, 7, 1, 3, 1, 2, 3, 4, 6, 7, 9, 2, 3, 6, 7, 9, 7, 9, 2, 3, 5, 8, 1, 2, 3, 8, 1, 3, 4, 9, 10, 1, 2, 3, 4, 8, 9, 4, 6, 1, 2, 3, 4, 5, 6, 8, 9, 8, 1, 3, 6, 7, 3, 4, 1, 2, 4, 5, 8, 9, 10, 2, 8, 10, 5, 5, 2, 5, 7, 1, 2, 3, 4, 5, 6, 7, 10, 2, 6, 1, 3, 9, 1, 2, 3, 4, 5, 6, 7, 8, 10, 1, 5, 10, 1, 3, 5, 7, 1, 3, 7, 1, 2, 3, 5, 6, 10, 2, 6, 9, 1, 2, 10, 1, 8, 9, 2, 4, 10, 2, 4, 8, 9, 1, 3, 7, 9, 1, 2, 3, 6, 9, 1, 2, 3, 4, 5, 6, 7, 9, 1, 3, 4, 3, 1, 3, 4, 6, 9, 4, 1, 2, 3, 4, 5, 6, 8, 9, 10, 3, 5, 1, 2, 6, 1, 6, 3, 4, 7, 9, 1, 4, 3, 4, 1, 2, 3, 4, 5, 6, 7, 8, 10], \"Freq\": [0.023926217561325507, 0.023926217561325507, 0.31104082829723156, 0.5981554390331376, 0.8033117156363458, 0.07302833778512235, 0.07302833778512235, 0.13756020686453352, 0.1481417612387284, 0.06348932624516931, 0.17988642436131305, 0.08465243499355908, 0.17988642436131305, 0.026453885935487215, 0.03174466312258466, 0.02116310874838977, 0.12168787530324118, 0.048668650792692066, 0.6326924603049968, 0.048668650792692066, 0.024334325396346033, 0.12167162698173016, 0.12167162698173016, 0.0926423807326152, 0.8337814265935368, 0.11281556862136242, 0.33844670586408726, 0.4512622744854497, 0.835280012481989, 0.09280889027577656, 0.06293456684854946, 0.8928841671637955, 0.007866820856068683, 0.03146728342427473, 0.11399463343947341, 0.7979624340763138, 0.17669038019304972, 0.10193675780368254, 0.16309881248589206, 0.18348616404662857, 0.061162054682209525, 0.09514097395010371, 0.054366270828630686, 0.020387351560736507, 0.1563030286323132, 0.22684288793862997, 0.68052866381589, 0.10813186465163808, 0.05406593232581904, 0.16219779697745712, 0.5947252555840095, 0.0762808551227311, 0.04576851307363866, 0.061024684098184886, 0.2288425653681933, 0.24409873639273955, 0.0762808551227311, 0.015256171024546222, 0.24409873639273955, 0.1393689165562261, 0.19743929845465363, 0.08129853465779856, 0.16259706931559711, 0.08129853465779856, 0.058070381898427545, 0.058070381898427545, 0.23228152759371018, 0.16950309767507984, 0.1130020651167199, 0.6215113581419593, 0.16947143383450625, 0.08473571691725312, 0.25420715075175937, 0.4236785845862656, 0.7941992490618848, 0.11345703558026925, 0.22504172691026897, 0.675125180730807, 0.023719359101108516, 0.43880814337050755, 0.011859679550554258, 0.03557903865166277, 0.10673711595498832, 0.23719359101108517, 0.0830177568538798, 0.04743871820221703, 0.1141971270359631, 0.7993798892517417, 0.24016799879341924, 0.7205039963802577, 0.05387687969478771, 0.10775375938957542, 0.16163063908436312, 0.21550751877915084, 0.015393394198510775, 0.4387117346575571, 0.2139867332059337, 0.08559469328237349, 0.08559469328237349, 0.5991628529766143, 0.912506639162514, 0.03737721943821002, 0.024918146292140012, 0.13704980460677008, 0.08721351202249004, 0.07475443887642004, 0.3737721943821002, 0.03737721943821002, 0.13704980460677008, 0.08721351202249004, 0.9320871161704127, 0.20398018843827828, 0.21077952805288758, 0.020398018843827827, 0.2855722638135896, 0.013598679229218553, 0.05439471691687421, 0.05439471691687421, 0.10878943383374842, 0.047595377302264937, 0.13676310456680726, 0.034190776141701816, 0.034190776141701816, 0.6838155228340363, 0.10257232842510546, 0.9834150400428282, 0.08475317214387683, 0.08475317214387683, 0.2542595164316305, 0.508519032863261, 0.2788411669556835, 0.050428721683474675, 0.011865581572582277, 0.07119348943549365, 0.12755500190525948, 0.050428721683474675, 0.017798372358873413, 0.23137884066535438, 0.04449593089718353, 0.11865581572582276, 0.9512943921615472, 0.06650124274858119, 0.03325062137429059, 0.4655086992400683, 0.06650124274858119, 0.13300248549716237, 0.016625310687145296, 0.19950372824574356, 0.07804268495759, 0.31217073983036, 0.54629879470313, 0.6206831059429679, 0.04433450756735485, 0.1773380302694194, 0.04433450756735485, 0.0886690151347097, 0.37268839628788986, 0.008667172006695112, 0.11267323608703647, 0.11267323608703647, 0.3900227403012801, 0.17369156013679193, 0.3225700402540421, 0.4466354403517507, 0.024813080019541703, 0.024813080019541703, 0.7609400275041982, 0.179044712353929, 0.5256477765343704, 0.06184091488639652, 0.4019659467615774, 0.03731833870346587, 0.03731833870346587, 0.8956401288831809, 0.12719953164160386, 0.6359976582080193, 0.06359976582080193, 0.06359976582080193, 0.23487973707291326, 0.23487973707291326, 0.5284794084140548, 0.4617957559153767, 0.04468991186277839, 0.02979327457518559, 0.2979327457518559, 0.014896637287592796, 0.014896637287592796, 0.12662141694453877, 0.29829846828625434, 0.010286154078836358, 0.020572308157672716, 0.43201847131112703, 0.0720030785518545, 0.04114461631534543, 0.10286154078836357, 0.030858462236509072, 0.9459265290453281, 0.6809584185567287, 0.22698613951890956, 0.10035179829723105, 0.15508914282299344, 0.1733349243315809, 0.11403613442867165, 0.1733349243315809, 0.10947468905152478, 0.009122890754293731, 0.04561445377146866, 0.10947468905152478, 0.009122890754293731, 0.03801925147152522, 0.11405775441457566, 0.26613476030067656, 0.5322695206013531, 0.176906250667138, 0.6633984400017675, 0.02211328133339225, 0.088453125333569, 0.02211328133339225, 0.007989205270347282, 0.30358980027319676, 0.03195682108138913, 0.47136311095048966, 0.14380569486625108, 0.03994602635173641, 0.6816857346072042, 0.004939751700052204, 0.2568670884027146, 0.004939751700052204, 0.03457826190036543, 0.019759006800208815, 0.11376557979239255, 0.028441394948098137, 0.3128553444290795, 0.14220697474049068, 0.36973813432527575, 0.05050210373320909, 0.20200841493283636, 0.17675736306623183, 0.025251051866604545, 0.025251051866604545, 0.4292678817322773, 0.07575315559981365, 0.3945146551154352, 0.5635923644506217, 0.056359236445062175, 0.030118260340106822, 0.09035478102032046, 0.21082782238074774, 0.030118260340106822, 0.331300863741175, 0.3011826034010682, 0.7344028726193664, 0.07344028726193665, 0.1468805745238733, 0.06467107434515465, 0.4311404956343643, 0.4958115699795189, 0.9936390339682383, 0.9666138368371202, 0.7114872239813996, 0.019763533999483326, 0.1581082719958666, 0.03952706799896665, 0.059290601998449974, 0.7562993037059562, 0.06302494197549635, 0.1260498839509927, 0.3009316448870669, 0.6018632897741338, 0.09140152220695563, 0.03973979226389376, 0.06358366762223, 0.3576581303750438, 0.00794795845277875, 0.10332345988612376, 0.03576581303750438, 0.25036069126253063, 0.04371377149028313, 0.00794795845277875, 0.07901140763141935, 0.869125483945613, 0.941261039031074, 0.9301337226848951, 0.02735687419661456, 0.9405906485083838, 0.044263089341571006, 0.9827654905908824, 0.01832090341882068, 0.4397016820516963, 0.2442787122509424, 0.12824632393174476, 0.07939058148155627, 0.08549754928782984, 0.10016624645882856, 0.07512468484412142, 0.8013299716706285, 0.35244373320008954, 0.09194184344350162, 0.015323640573916936, 0.061294562295667744, 0.15323640573916936, 0.21453096803483712, 0.015323640573916936, 0.09194184344350162, 0.015323640573916936, 0.22803250481725484, 0.722102931921307, 0.05778013199724732, 0.21752520281316637, 0.05098246940933587, 0.2039298776373435, 0.1257567578763618, 0.12235792658240609, 0.07477428846702594, 0.13255442046427326, 0.013595325175822898, 0.4225563724943187, 0.08091505005210359, 0.4495280558450199, 0.008990561116900398, 0.035962244467601594, 0.10033984386002558, 0.5184225266101321, 0.03344661462000852, 0.01672330731000426, 0.08361653655002131, 0.06689322924001705, 0.1839563804100469, 0.08495689768429256, 0.6796551814743405, 0.08495689768429256, 0.3183683506800852, 0.6367367013601704, 0.4091662772174787, 0.07439386858499612, 0.12398978097499354, 0.38436832102248, 0.012398978097499354, 0.05224597568590737, 0.6008287203879348, 0.3134758541154442, 0.7757037560597163, 0.03232098983582152, 0.16160494917910756, 0.03232098983582152, 0.07420503882312769, 0.17809209317550648, 0.07420503882312769, 0.35618418635101295, 0.07420503882312769, 0.2522971319986342, 0.6819657094762103, 0.17049142736905257, 0.08524571368452628, 0.0493842445849169, 0.7901479133586704, 0.0987684891698338, 0.0493842445849169, 0.8769536747061586, 0.4581645446095534, 0.027619848433909248, 0.13484984823614515, 0.001624696966700544, 0.012997575733604352, 0.03899272720081306, 0.185215454203862, 0.07636075743492557, 0.06336318170132121, 0.5212635600222526, 0.4778249300203982, 0.06911455236900893, 0.44540489304472425, 0.1305497100303502, 0.2764582094760357, 0.007679394707667659, 0.026877881476836805, 0.01919848676916915, 0.01919848676916915, 0.1421938461469913, 0.05332269230512173, 0.0799840384576826, 0.062209807689308685, 0.13330673076280433, 0.15108096153117825, 0.23995211537304778, 0.11553249999443042, 0.01777423076837391, 0.05144011081161005, 0.49382506379145646, 0.13374428811018613, 0.010288022162322009, 0.1954724210841182, 0.08230417729857607, 0.020576044324644018, 0.7134201854980898, 0.2547929233921749, 0.15531506812158377, 0.7342166856656688, 0.04235865494225012, 0.028239103294833413, 0.028239103294833413, 0.23798443397169566, 0.11899221698584783, 0.5949610849292392, 0.021443733272865268, 0.10721866636432635, 0.7076431980045539, 0.1501061329100569, 0.13310086473855579, 0.019014409248365113, 0.7986051884313347, 0.057043227745095335, 0.9846004766744442, 0.7807155574917515, 0.21469677831023165, 0.7971289378175417, 0.15942578756350834, 0.7090807065515834, 0.20259448758616666, 0.02583500408332468, 0.48569807676650395, 0.11884101878329352, 0.2893520457332364, 0.005167000816664936, 0.0723380114333091, 0.07672692917528982, 0.1342721260567572, 0.03836346458764491, 0.03836346458764491, 0.6905423625776085, 0.07363569435000678, 0.05960984780714834, 0.06311630944286295, 0.11220677234286747, 0.18934892832858885, 0.10168738743572364, 0.07714215598572138, 0.15077785033572816, 0.1718166201500158, 0.9301678445932192, 0.05634720605217549, 0.3380832363130529, 0.5634720605217549, 0.32454418229214754, 0.6490883645842951, 0.7190453267095545, 0.07190453267095545, 0.0479363551139703, 0.11984088778492574, 0.9705037435009304, 0.30848887606619757, 0.6169777521323951, 0.7157004087155641, 0.23856680290518803, 0.16873092517157648, 0.2109136564644706, 0.5905582381005177, 0.14627497031738793, 0.2194124554760819, 0.5850998812695517, 0.11425004340904824, 0.7997503038633377, 0.23436680366344131, 0.11208847131729803, 0.050949305144226374, 0.4177843021826563, 0.0407594441153811, 0.1222783323461433, 0.010189861028845275, 0.010189861028845275, 0.13298389962663854, 0.17097929951996382, 0.11398619967997588, 0.018997699946662647, 0.09498849973331323, 0.38945284890658427, 0.04749424986665662, 0.02849654991999397, 0.12616585053971957, 0.025233170107943913, 0.1429879639450155, 0.21027641756619928, 0.033644226810591885, 0.025233170107943913, 0.025233170107943913, 0.19345430416090334, 0.10934373713442362, 0.11775479383707159, 0.17138630093123086, 0.08569315046561543, 0.599852053259308, 0.13551129243625978, 0.677556462181299, 0.13551129243625978, 0.08474929929403278, 0.16949859858806557, 0.08474929929403278, 0.08474929929403278, 0.5932450950582295, 0.04563850342936166, 0.24644791851855297, 0.027383102057616994, 0.6024282452675739, 0.06389390480110632, 0.5100091902649351, 0.04935572809015501, 0.14806718427046503, 0.2796824591775451, 0.016451909363385003, 0.1272726613755229, 0.03320156383709293, 0.2545453227510458, 0.5256914274206381, 0.016600781918546467, 0.011067187945697644, 0.027667969864244107, 0.08407060212896686, 0.7566354191607016, 0.39111861069116144, 0.6084067277418067, 0.06545002546552742, 0.34595013460350205, 0.16830006548278478, 0.018700007275864974, 0.20570008003451473, 0.1589500618448523, 0.03272501273276371, 0.5322869236651775, 0.014386133072031824, 0.07193066536015912, 0.17263359686438187, 0.18701972993641372, 0.06544608416746672, 0.9244259388654674, 0.00818076052093334, 0.12996839443557617, 0.8447945638312451, 0.2548003518681012, 0.6624809148570631, 0.8698230725511036, 0.11597640967348048, 0.20255130837054414, 0.20255130837054414, 0.5063782709263603, 0.018934395437236115, 0.056803186311708345, 0.10413917490479863, 0.006311465145745372, 0.30295032699577784, 0.006311465145745372, 0.012622930291490744, 0.2840159315585417, 0.15147516349788892, 0.056803186311708345, 0.2419178896826625, 0.05582720531138365, 0.03721813687425577, 0.4466176424910692, 0.1116544106227673, 0.09304534218563942, 0.0327688641508571, 0.16384432075428548, 0.18022875282971404, 0.5734551226399992, 0.0327688641508571, 0.33773396909676134, 0.5910344459193324, 0.20255345162420382, 0.050638362906050956, 0.15191508871815287, 0.5570219919665605, 0.12354643272388724, 0.041182144241295744, 0.2882750096890702, 0.24709286544777448, 0.054909525655061, 0.2608202468615397, 0.05857767056274021, 0.03905178037516013, 0.23431068225096083, 0.11715534112548041, 0.05857767056274021, 0.019525890187580067, 0.44909547431434155, 0.05857767056274021, 0.22515827938289446, 0.2814478492286181, 0.4503165587657889, 0.5611887309791269, 0.3231086632910125, 0.03401143824115921, 0.06802287648231842, 0.02537120976440264, 0.1775984683508185, 0.7865075026964818, 0.05476640902689024, 0.10953281805378048, 0.21906563610756097, 0.49289768124201216, 0.08214961354033537, 0.02738320451344512, 0.2551518099171003, 0.6804048264456007, 0.3230925336869298, 0.1076975112289766, 0.538487556144883, 0.6021762970529817, 0.361305778231789, 0.9823299775862668, 0.9126408981492504, 0.09547341445711675, 0.01735880262856668, 0.5381228814855672, 0.22566443417136686, 0.03471760525713336, 0.08679401314283341, 0.00867940131428334, 0.3028140228818172, 0.02018760152545448, 0.16150081220363585, 0.504690038136362, 0.053170031259741096, 0.053170031259741096, 0.7443804376363753, 0.053170031259741096, 0.7768819291702035, 0.17264042870448967, 0.7253413382370447, 0.2176024014711134, 0.7311728478605282, 0.21935185435815846, 0.3279381017660606, 0.4907442515789985, 0.011629010700924135, 0.16513195195312272, 0.9754694567452468, 0.26230337707162127, 0.27979026887639596, 0.05246067541432425, 0.008743445902387374, 0.23607303936445911, 0.06120412131671162, 0.1049213508286485, 0.9436418619336797, 0.3409322501857714, 0.042616531273221424, 0.5966314378250999, 0.9389758330902163, 0.23972539292754522, 0.11986269646377261, 0.5993134823188631, 0.3549266062395423, 0.20281520356545274, 0.050703800891363185, 0.07605570133704477, 0.2788709049024975, 0.025351900445681592, 0.4549142974159038, 0.3236890193151623, 0.11372857435397594, 0.06123846311367936, 0.03499340749353106, 0.3057261238526191, 0.10190870795087303, 0.5095435397543652, 0.6586022515736818, 0.2822581078172922, 0.8740603518681204, 0.8439267009285376, 0.13325158435713752, 0.7647510711940584, 0.13300018629461885, 0.06650009314730942, 0.3970123792162792, 0.07634853446466908, 0.0992530948040698, 0.1985061896081396, 0.07634853446466908, 0.007634853446466907, 0.03053941378586763, 0.007634853446466907, 0.03053941378586763, 0.06871368101820216, 0.05265395724868664, 0.1316348931217166, 0.1579618717460599, 0.6318474869842396, 0.09257179921215515, 0.1851435984243103, 0.27771539763646547, 0.46285899606077574, 0.13948020704527503, 0.604414230529525, 0.13948020704527503, 0.09298680469685001, 0.14579048956477647, 0.5831619582591059, 0.14579048956477647, 0.06731519323249764, 0.1121919887208294, 0.1121919887208294, 0.6731519323249764, 0.7317841580955782, 0.18294603952389454, 0.7101528345165348, 0.20290080986186707, 0.3104626818829419, 0.6209253637658838, 0.13403510271710387, 0.058640357438732936, 0.10052632703782789, 0.008377193919818992, 0.10890352095764688, 0.14241229663692284, 0.008377193919818992, 0.1759210723161988, 0.20942984799547476, 0.06701755135855193, 0.749667649483567, 0.20445481349551828, 0.9528329798152045, 0.15685822068229857, 0.6274328827291943, 0.07842911034114929, 0.07842911034114929, 0.0778997197962987, 0.4729625844775278, 0.022257062798942486, 0.1335423767936549, 0.022257062798942486, 0.2670847535873098, 0.18555761340199764, 0.0856419754163066, 0.028547325138768866, 0.014273662569384433, 0.4710308647896863, 0.19983127597138206, 0.9365605774484154, 0.0275458993367181, 0.01377294966835905, 0.8842250487584135, 0.049123613819911864, 0.9850297457060645, 0.3461284972534792, 0.09659399923352908, 0.04829699961676454, 0.3702769970618615, 0.014086624888222992, 0.02414849980838227, 0.018111374856286704, 0.06640837447305124, 0.012074249904191136, 0.006037124952095568, 0.12705115847684373, 0.06352557923842186, 0.7623069508610623, 0.07678799412927077, 0.07678799412927077, 0.5375159589048955, 0.10238399217236104, 0.20476798434472207, 0.1352283053571405, 0.33807076339285125, 0.4732990687499917, 0.0904139814946237, 0.06781048612096777, 0.022603495373655923, 0.8137258334516132, 0.1152455187274615, 0.7490958717284998, 0.1152455187274615, 0.20254710960180586, 0.7523178356638502, 0.02893530137168655, 0.8607866749290201, 0.06886293399432161, 0.034431466997160806, 0.015769107059157458, 0.961915530608605, 0.9795960715738299, 0.12826798255583688, 0.8337418866129397, 0.9908225383888137, 0.12419539901843225, 0.7037739277711161, 0.08279693267895484, 0.08279693267895484, 0.12672311008060988, 0.12672311008060988, 0.12672311008060988, 0.12672311008060988, 0.018103301440087125, 0.4706858374422653, 0.03882131800423722, 0.2717492260296605, 0.03882131800423722, 0.5823197700635583, 0.26832190488053126, 0.0036756425326100175, 0.025729497728270122, 0.6689669409350232, 0.011026927597830053, 0.022053855195660107, 0.7409459037240482, 0.03367935926018401, 0.050519038890276015, 0.13471743704073605, 0.016839679630092006, 0.24936980709391826, 0.04749901087503205, 0.023749505437516024, 0.24936980709391826, 0.023749505437516024, 0.32061832340646634, 0.08312326903130608, 0.055245713690169077, 0.7568662775553163, 0.016573714107050722, 0.0718194277972198, 0.09391771327328743, 0.037354244509704995, 0.8591476237232148, 0.08715990385597833, 0.28510711562519403, 0.06109438191968443, 0.020364793973228143, 0.3869310854913347, 0.06109438191968443, 0.12218876383936886, 0.06109438191968443, 0.1613317884452642, 0.04033294711131605, 0.766325995115005, 0.7900489308631299, 0.17556642908069553, 0.18381063312066037, 0.010460767738574166, 0.32278940450457433, 0.25404721650822976, 0.062764606431445, 0.04931504791042107, 0.025404721650822977, 0.004483186173674643, 0.016438349303473692, 0.0717309787787943, 0.019030266148490675, 0.12559975658003844, 0.6165806232110979, 0.026642372607886943, 0.019030266148490675, 0.1636602888770198, 0.022836319378188807, 0.9890961417772964, 0.058123591294152885, 0.14530897823538222, 0.130778080411844, 0.07265448911769111, 0.10171628476476754, 0.14530897823538222, 0.3487415477649173, 0.049576302069219945, 0.07436445310382991, 0.07436445310382991, 0.024788151034609972, 0.049576302069219945, 0.22309335931148974, 0.07436445310382991, 0.4213985675883695, 0.21224446254648419, 0.08409686251841826, 0.00400461250087706, 0.020023062504385302, 0.15617988753420534, 0.5125904001122636, 0.012013837502631181, 0.7435735899377242, 0.24785786331257473, 0.006628279161111043, 0.013256558322222086, 0.16239283944722055, 0.006628279161111043, 0.08285348951388803, 0.7125400098194371, 0.01657069790277761, 0.027974863107832138, 0.9511453456662927, 0.10703326608942718, 0.14083324485450946, 0.2760331599148385, 0.0732332873243449, 0.11266659588360756, 0.0732332873243449, 0.05633329794180378, 0.16336656403123095, 0.9945171679042988, 0.8109016329334572, 0.10511687834322593, 0.06006678762470053, 0.7152019030113195, 0.204343400860377, 0.9375018145430503, 0.0568182917904879, 0.2531884584688055, 0.7089276837126554, 0.16982640953204914, 0.1069277393349939, 0.28933388290645407, 0.09434800529558286, 0.06289867019705524, 0.07547840423646629, 0.044029069137938665, 0.006289867019705524, 0.09434800529558286, 0.05660880317734971, 0.88530877164173, 0.049183820646762785, 0.134882358519741, 0.0269764717039482, 0.0539529434078964, 0.0539529434078964, 0.7283647360066013, 0.9254252576431815, 0.05238256175338763, 0.017460853917795876, 0.40618337230337676, 0.10154584307584419, 0.40618337230337676, 0.026670054681271996, 0.8801118044819759, 0.05334010936254399, 0.09497360554242401, 0.08864203183959574, 0.15828934257070668, 0.2152735058961611, 0.10130517924525227, 0.04432101591979787, 0.17728406367919147, 0.12029990035373708, 0.7949791556606983, 0.11356845080867119, 0.009794026231210725, 0.9696085968898617, 0.009794026231210725, 0.6906298465107994, 0.05053389120810727, 0.016844630402702423, 0.21898019523513151, 0.06019624634933175, 0.18058873904799524, 0.722354956191981, 0.04578089812951496, 0.8927275135255418, 0.06867134719427244, 0.08457865682814895, 0.7189185830392661, 0.04228932841407448, 0.12686798524222345, 0.04600952832631643, 0.18403811330526573, 0.1380285849789493, 0.09201905665263287, 0.5061048115894807, 0.9245691110416754, 0.030021710632587465, 0.030021710632587465, 0.1801302637955248, 0.1801302637955248, 0.12008684253034986, 0.450325659488812, 0.07880612330206843, 0.6304489864165475, 0.2364183699062053, 0.2039292675611716, 0.029132752508738802, 0.11653101003495521, 0.11653101003495521, 0.058265505017477605, 0.436991287631082, 0.20446216604331566, 0.6815405534777188, 0.4168817000424447, 0.5558422667232596, 0.09412889151817037, 0.056477334910902226, 0.8471600236635334, 0.25645373846712455, 0.0854845794890415, 0.683876635912332, 0.03346395936420846, 0.13385583745683385, 0.7696710653767946, 0.03346395936420846, 0.1462062398773264, 0.0731031199386632, 0.731031199386632, 0.6349405436967178, 0.09070579195667398, 0.09070579195667398, 0.06047052797111599, 0.12094105594223198, 0.6052674910973324, 0.07894793362139117, 0.18421184511657943, 0.10526391149518824, 0.7354659842940698, 0.14709319685881397, 0.07354659842940699, 0.24511985189456162, 0.6536529383854977, 0.0817066172981872, 0.48197066730518523, 0.27903564949247567, 0.012683438613294348, 0.05073375445317739, 0.025366877226588695, 0.07610063167976609, 0.038050315839883046, 0.025366877226588695, 0.7091392921316997, 0.16364752895346915, 0.05454917631782305, 0.8567834028139423, 0.03295320780053624, 0.06590641560107248, 0.4086532069160471, 0.5889413864378326, 0.2214713462907704, 0.08858853851630816, 0.6644140388723112, 0.019604862627649065, 0.901823680871857, 0.03920972525529813, 0.019604862627649065, 0.1859384646834173, 0.7437538587336692, 0.1254351283932584, 0.19633324444162184, 0.17451843950366386, 0.027268506172447478, 0.18542584197264286, 0.1199814271587689, 0.10362032345530042, 0.03817590864142647, 0.027268506172447478, 0.9353434129647787, 0.01732117431416257, 0.05196352294248771, 0.12212148338815262, 0.06106074169407631, 0.7327289003289158, 0.2791332030718485, 0.4987179894883694, 0.05024397655293274, 0.01302621614335293, 0.031635096348142835, 0.020469768225268893, 0.01302621614335293, 0.05396575259389071, 0.0372177604095798, 0.1327039515414957, 0.2543492404545334, 0.16035060811264062, 0.09399863234189278, 0.011058662628457974, 0.044234650513831894, 0.17693860205532758, 0.07188130708497682, 0.038705319199602906, 0.8592246879160997, 0.08183092265867616, 0.0010654137581533186, 0.4197730207124075, 0.005327068790766593, 0.10014889326641195, 0.15235416741592456, 0.19603613150021063, 0.02130827516306637, 0.07031730803811903, 0.03196241274459956, 0.39650921072773443, 0.5767406701494319, 0.11608147797024071, 0.14286951134798856, 0.13394016688873928, 0.312527056073725, 0.2857390226959771, 0.008929344459249285, 0.06484343620082489, 0.8429646706107236, 0.6509975216081648, 0.3254987608040824, 0.3398991268849198, 0.5664985448081996, 0.09293071501554025, 0.743445720124322, 0.09293071501554025, 0.3265765926468762, 0.25400401650312593, 0.3991491687906265, 0.3368953705522022, 0.3222477457455847, 0.04394287441985246, 0.014647624806617486, 0.06591431162977869, 0.08056193643639617, 0.03661906201654372, 0.007323812403308743, 0.08788574883970492, 0.0825860938060067, 0.04129304690300335, 0.0825860938060067, 0.45422351593303684, 0.05781026566420469, 0.04955165628360402, 0.11562053132840938, 0.04955165628360402, 0.06606887504480537, 0.9501637995261919, 0.04865731772713631, 0.6649833422708629, 0.04865731772713631, 0.16219105909045434, 0.08109552954522717, 0.10238147455404785, 0.8190517964323828, 0.024571738965499187, 0.09828695586199675, 0.049143477930998374, 0.786295646895974, 0.12344167608697416, 0.6789292184783579, 0.1543020951087177, 0.18132244381766022, 0.20722565007732596, 0.012951603129832873, 0.20722565007732596, 0.09066122190883011, 0.2849352688563232, 0.41067535887172985, 0.5730353844721812, 0.22842346062238605, 0.6852703818671582, 0.012498175258366051, 0.012498175258366051, 0.08123813917937933, 0.8936195309731726, 0.9074353834815758, 0.16540295256062368, 0.1811556147092545, 0.3150532429726165, 0.02362899322294624, 0.08663964181746954, 0.06301064859452331, 0.05513431752020789, 0.09451597289178496, 0.015752662148630827, 0.17069943811333413, 0.7681474715100035, 0.06401266342871983, 0.14525950547286423, 0.08124684204414441, 0.16249368408828882, 0.20927216890158407, 0.05908861239574138, 0.05416456136276294, 0.07878481652765518, 0.08370886756063363, 0.06155063791223061, 0.20461893182841923, 0.7673209943565721, 0.9571287016138806, 0.9818170265529957, 0.011829120801843323, 0.07434218316656037, 0.14868436633312074, 0.16107473019421412, 0.3964916435549886, 0.04956145544437358, 0.16107473019421412, 0.028743605381960857, 0.2874360538196086, 0.10539321973385649, 0.22036764126169991, 0.038324807175947814, 0.038324807175947814, 0.2874360538196086, 0.311590451483269, 0.6798337123271324, 0.22786951572796665, 0.6836085471839, 0.5389352874762319, 0.21848727870658047, 0.21848727870658047, 0.029131637160877397, 0.9830446196398994, 0.421483223587284, 0.099172523197008, 0.45867291978616204, 0.012396565399626, 0.3166947743997929, 0.5542158551996376, 0.07103156051866874, 0.8523787262240248, 0.05073682894190624, 0.010147365788381248, 0.010147365788381248, 0.9331853431921064, 0.7961489781224586, 0.14049687849219855, 0.046832292830732855, 0.008466828821748158, 0.38100729697866714, 0.03951186783482474, 0.025400486465244478, 0.1862702340784595, 0.12700243232622238, 0.0846682882174816, 0.10724649840881001, 0.022578210191328423, 0.016933657643496317, 0.6613015120578247, 0.1469558915684055, 0.1469558915684055, 0.44885462764451667, 0.3366409707333875, 0.11221365691112917, 0.6388897137299047, 0.18790873933232488, 0.037581747866464975, 0.07516349573292995, 0.060130262079816386, 0.06475566685518687, 0.24052104831926555, 0.04162864297833442, 0.18501619101481964, 0.19426700056556062, 0.09250809550740982, 0.12026052415963277, 0.34667382657968615, 0.03354907999158253, 0.011183026663860843, 0.03354907999158253, 0.11183026663860843, 0.27957566659652106, 0.022366053327721687, 0.1565623732940518, 0.1359599999932839, 0.20393999998992585, 0.6118199999697775, 0.062413320693023876, 0.2320495256535503, 0.024005123343470724, 0.41288812150769644, 0.21284542697877373, 0.014403074006082433, 0.006401366224925526, 0.03520751423709039, 0.0824571520410004, 0.054971434694000273, 0.3848000428580019, 0.4397714775520022, 0.14017248974853583, 0.07008624487426791, 0.07008624487426791, 0.13141170913925235, 0.21901951523208724, 0.2453018570599377, 0.01752156121856698, 0.09636858670211838, 0.4058319656884593, 0.5072899571105741, 0.6552727451681241, 0.09361039216687486, 0.23402598041718714, 0.8705782490445443, 0.10242097047582874, 0.6607620987317715, 0.2936720438807873, 0.008782455033378227, 0.49181748186918073, 0.026347365100134683, 0.193214010734321, 0.28103856106810327, 0.008782455033378227, 0.32181664719655445, 0.2085848639236927, 0.1072722157321848, 0.089393513110154, 0.0178787026220308, 0.10131264819150787, 0.14898918851692333, 0.11349539003617812, 0.6809723402170688, 0.05674769501808906, 0.11349539003617812, 0.03492104261212793, 0.03492104261212793, 0.2095262556727676, 0.6285787670183027, 0.06984208522425586, 0.09368298663183913, 0.09368298663183913, 0.10929681773714565, 0.09368298663183913, 0.15613831105306522, 0.015613831105306522, 0.37473194652735653, 0.031227662210613044, 0.7514133742636095, 0.21468953550388845, 0.8152996627182695, 0.14823630231241264, 0.9704934493638705, 0.5008601904902514, 0.23724956391643492, 0.052722125314763314, 0.21088850125905326, 0.17825811970742825, 0.7724518520655225, 0.04273632450502106, 0.4416086865518843, 0.3988723620468632, 0.028490883003347373, 0.08547264901004212, 0.9428859363398843, 0.027731939304114245, 0.013865969652057122, 0.9236623871176476, 0.1353430906027579, 0.36091490827402106, 0.05413723624110316, 0.08120585436165474, 0.01804574541370105, 0.10827447248220631, 0.18045745413701053, 0.009022872706850526, 0.04511436353425263, 0.23173078574448985, 0.03196286699923998, 0.12785146799695993, 0.1438329014965799, 0.03196286699923998, 0.36757297049125975, 0.04794430049885997, 0.007990716749809995, 0.8599982790440629, 0.10749978488050786, 0.935001583081685, 0.021223326643479413, 0.9550496989565737, 0.3423449995597011, 0.06956743306560771, 0.1281505345945405, 0.19954868958292737, 0.016476497305012352, 0.07322887691116602, 0.0018307219227791502, 0.08970537421617836, 0.0768903207567243, 0.0018307219227791502, 0.05665932291499327, 0.1699779687449798, 0.1699779687449798, 0.1699779687449798, 0.3966152604049529, 0.7483633841266051, 0.057566414163585, 0.11513282832717, 0.7115095468421416, 0.15811323263158703, 0.07905661631579351, 0.23591038304331333, 0.70773114912994, 0.058033302101892774, 0.6093496720698741, 0.31918316156041027, 0.11722803146774051, 0.5079881363602089, 0.0976900262231171, 0.23445606293548102, 0.23224607237845316, 0.06807212466265007, 0.2442588002600973, 0.16016970508858838, 0.11211879356201188, 0.05205515415379123, 0.040042426272147096, 0.02802969839050297, 0.05605939678100594, 0.2129419255419275, 0.15112007619104534, 0.05495275497856194, 0.06182184935088218, 0.11677460432944413, 0.24041830303120848, 0.13051279307408462, 0.02747637748928097, 0.4471578088623394, 0.06156520556800325, 0.0777665754543199, 0.26894274011285635, 0.012961095909053318, 0.07452630147705658, 0.0550846576134766, 0.7243520888437741, 0.04260894640257495, 0.21304473201287474, 0.1395901784312041, 0.016422373933082837, 0.2791803568624082, 0.29560273079549104, 0.1395901784312041, 0.032844747866165674, 0.09853424359849702, 0.07269472018675778, 0.07269472018675778, 0.14538944037351556, 0.65425248168082, 0.1836014261128327, 0.045900356528208175, 0.7344057044513308, 0.2670516638748958, 0.09710969595450758, 0.2670516638748958, 0.3641613598294034, 0.8974670755259387, 0.08413753833055675, 0.11977507540378804, 0.8384255278265162, 0.0707520137631783, 0.08647468348832903, 0.05502934403802757, 0.06289067890060293, 0.1415040275263566, 0.33803739909074076, 0.11792002293863049, 0.0471680091754522, 0.0707520137631783, 0.14628271651115113, 0.7314135825557556, 0.07314135825557556, 0.14635569657102468, 0.14635569657102468, 0.14635569657102468, 0.5122449379985864, 0.6728916992949912, 0.02691566797179965, 0.2153253437743972, 0.0538313359435993, 0.015748262414934357, 0.9448957448960614, 0.03149652482986871, 0.33478850483753086, 0.10229648758924555, 0.11159616827917695, 0.06509776482951989, 0.06509776482951989, 0.12089584896910836, 0.14879489103890262, 0.02789904206979424, 0.037198722759725654, 0.8636243704286215, 0.05757495802857476, 0.05757495802857476, 0.8449199963629843, 0.08449199963629843, 0.0820984415479784, 0.20524610386994602, 0.6567875323838273, 0.0820984415479784, 0.11638401198585871, 0.029096002996464677, 0.29096002996464676, 0.5528240569328289, 0.10125935938235457, 0.20251871876470914, 0.6075561562941274, 0.7300996331297871, 0.23230442872311408, 0.16602782325260163, 0.12696245307551887, 0.06836439780989478, 0.4590180995807221, 0.02929902763281205, 0.048831712721353414, 0.09766342544270683, 0.195458605208062, 0.195458605208062, 0.5863758156241861, 0.612763499269157, 0.20425449975638563, 0.10212724987819281, 0.07735866904019953, 0.25786223013399845, 0.05157244602679969, 0.4512589027344973, 0.14182422657369914, 0.13199621619257212, 0.07391788106784039, 0.13199621619257212, 0.16367530807878944, 0.08447757836324617, 0.13727606484027502, 0.19535439996500675, 0.05279848647702885, 0.02111939459081154, 0.01055969729540577, 0.10696904093951805, 0.3209071228185541, 0.4813606842278312, 0.0440706581936419, 0.07119106323588308, 0.03729055693308161, 0.13560202521120585, 0.18984283529568818, 0.1457721771020463, 0.006780101260560292, 0.10170151890840438, 0.23052344285904994, 0.03729055693308161, 0.053731758864192306, 0.1410458670185048, 0.013432939716048076, 0.09403057801233652, 0.06044822872221634, 0.06044822872221634, 0.2955246737530577, 0.13432939716048076, 0.1410458670185048, 0.3410837067152165, 0.2177688281335613, 0.03148464985063537, 0.15742324925317686, 0.020989766567090246, 0.052474416417725614, 0.06034557888038446, 0.08920650791013354, 0.02886092902974909, 0.002623720820886281, 0.7563375089720468, 0.04727109431075292, 0.1890843772430117, 0.016772080493135267, 0.0503162414794058, 0.9224644271224396, 0.05693557970916004, 0.11387115941832009, 0.05693557970916004, 0.6832269565099205, 0.05693557970916004, 0.16370662647478404, 0.29623103838294257, 0.48332432578269574, 0.015591107283312765, 0.038977768208281915, 0.18681356599360516, 0.09340678299680258, 0.653847480977618, 0.7871428077941056, 0.07871428077941056, 0.07871428077941056, 0.09336231418367542, 0.17505433909439144, 0.09336231418367542, 0.11670289272959429, 0.03967898352806206, 0.12137100843877806, 0.09102825632908354, 0.15171376054847258, 0.0490152149464296, 0.0653536199285728, 0.15378656063927207, 0.08201949900761177, 0.061514624255708826, 0.06664084294368457, 0.13328168588736913, 0.02563109343987868, 0.010252437375951471, 0.19479631014307797, 0.271689590462714, 0.13887702120166762, 0.3333048508840023, 0.49995727632600345, 0.4449650651160625, 0.28315958689203974, 0.12135410866801703, 0.1483216883720208, 0.9661737977727807, 0.06000384931118482, 0.7200461917342178, 0.18001154793355445, 0.06298263388296509, 0.8817568743615112, 0.7700203185167638, 0.17769699658079166, 0.2504970868834177, 0.11742050947660206, 0.09393640758128165, 0.13307657740681567, 0.1487326453370293, 0.015656067930213607, 0.1722167472323497, 0.07045230568596124, 0.10193454109372159, 0.20386908218744318, 0.10193454109372159, 0.509672705468608, 0.19123286661544514, 0.5736985998463354, 0.2549771554872602, 0.4332985097100718, 0.5295870674234211, 0.8767866663785798, 0.10315137251512704, 0.09097577693452041, 0.05458546616071225, 0.14556124309523266, 0.18195155386904083, 0.436683729285698, 0.05458546616071225, 0.018195155386904083, 0.19160383974565784, 0.1277358931637719, 0.6386794658188595, 0.5758250916455647, 0.4030775641518953, 0.8402523633675064, 0.14937819793200113, 0.1384016593444034, 0.19376232308216476, 0.02768033186888068, 0.608967301115375, 0.059760459041446334, 0.11952091808289267, 0.7768859675388023, 0.059760459041446334, 0.035456188052493204, 0.4963866327349048, 0.0531842820787398, 0.3900180685774252, 0.017728094026246602, 0.16414561359421556, 0.07295360604187359, 0.18238401510468397, 0.16414561359421556, 0.38300643171983634, 0.018238401510468398, 0.8409131541909335, 0.12613697312864003, 0.6419115663141098, 0.131956124981059, 0.0659780624905295, 0.05498171874210791, 0.05223263280500252, 0.0013745429685526978, 0.039861746088028234, 0.010996343748421582, 0.9823704358031523, 0.04699315911383866, 0.02349657955691933, 0.02349657955691933, 0.8928700231629346, 0.07753432413505783, 0.8528775654856362, 0.04434885476182822, 0.17739541904731287, 0.1626124674600368, 0.04434885476182822, 0.23652722539641718, 0.059131806349104296, 0.26609312857096934, 0.2980914517753133, 0.2980914517753133, 0.34067594488607233, 0.9596321415253354, 0.9654557789610491, 0.7758103270661962, 0.04083212247716822, 0.16332848990867288, 0.3648542713499445, 0.03723002768876985, 0.16381212183058735, 0.28294821043465085, 0.01489201107550794, 0.06701404983978573, 0.044676033226523824, 0.022338016613261912, 0.19185227934814197, 0.7674091173925679, 0.3842348735989932, 0.23054092415939592, 0.3842348735989932, 0.19089641340503083, 0.05726892402150925, 0.17816998584469546, 0.1336274893835216, 0.019089641340503085, 0.044542496461173864, 0.15908034450419237, 0.044542496461173864, 0.18453319962486314, 0.6356840900940965, 0.2383815337852862, 0.07946051126176207, 0.036369174559576924, 0.07273834911915385, 0.8183064275904807, 0.07273834911915385, 0.6227160373457472, 0.21978213082791076, 0.1465214205519405, 0.014011688342089164, 0.021017532513133746, 0.5744792220256557, 0.021017532513133746, 0.06305259753940123, 0.3082571435259616, 0.5965631672702063, 0.17399759045381016, 0.22371118772632737, 0.7309197688503659, 0.06644725171366962, 0.16611812928417405, 0.07267868162755628, 0.47241143057911583, 0.47241143057911583, 0.059761524883836695, 0.11952304976767339, 0.7768998234898771, 0.7297430608643676, 0.07297430608643676, 0.14594861217287353, 0.03648715304321838, 0.0808686796044865, 0.06065150970336487, 0.8491211358471082, 0.950223702656785, 0.0696093420673291, 0.1392186841346582, 0.2088280262019873, 0.5104685084937467, 0.04640622804488607, 0.021995724505435667, 0.1832977042119639, 0.03665954084239278, 0.13930625520109255, 0.007331908168478556, 0.4839059391195847, 0.11731053069565689, 0.007331908168478556, 0.10492746703201071, 0.734492269224075, 0.13990328937601426, 0.9571385164732854, 0.04665893075280144, 0.35771846910481103, 0.5288012151984163, 0.04665893075280144, 0.01555297691760048, 0.9354887419449508, 0.10442895134869806, 0.04594873859342715, 0.11278326745659391, 0.08772031913290637, 0.2046807446434482, 0.23392085102108365, 0.07101168691711468, 0.12949189967238559, 0.008354316107895846, 0.8128653987161573, 0.10160817483951966, 0.4374187074315885, 0.06561280611473828, 0.4811605781747474, 0.7565259097783026, 0.20632524812135525, 0.050324550741671574, 0.050324550741671574, 0.050324550741671574, 0.8555173626084167, 0.11233511448256361, 0.7863458013779453, 0.09165664827419696, 0.8249098344677727, 0.1417406051582396, 0.05002609593820221, 0.03335073062546814, 0.4002087675056177, 0.058363778594569246, 0.12506523984550552, 0.06670146125093628, 0.025013047969101105, 0.10005219187640442], \"Term\": [\"000\", \"000\", \"000\", \"000\", \"04\", \"04\", \"04\", \"1\", \"1\", \"1\", \"1\", \"1\", \"1\", \"1\", \"1\", \"1\", \"1\", \"100\", \"100\", \"100\", \"100\", \"100\", \"100\", \"115\", \"115\", \"17\", \"17\", \"17\", \"1862\", \"1862\", \"19\", \"19\", \"19\", \"19\", \"1990\", \"1990\", \"2\", \"2\", \"2\", \"2\", \"2\", \"2\", \"2\", \"2\", \"2\", \"2002\", \"2002\", \"2010\", \"2010\", \"2010\", \"2010\", \"2018\", \"2018\", \"2018\", \"2018\", \"2018\", \"2018\", \"2018\", \"2018\", \"2019\", \"2019\", \"2019\", \"2019\", \"2019\", \"2019\", \"2019\", \"2019\", \"25\", \"25\", \"25\", \"27\", \"27\", \"27\", \"27\", \"40\", \"40\", \"412\", \"412\", \"42\", \"42\", \"42\", \"42\", \"42\", \"42\", \"42\", \"42\", \"423\", \"423\", \"75\", \"75\", \"abuse\", \"abuse\", \"abuse\", \"abuse\", \"abuse\", \"abuse\", \"aca\", \"aca\", \"aca\", \"aca\", \"accepted\", \"acces\", \"acces\", \"acces\", \"acces\", \"acces\", \"acces\", \"acces\", \"acces\", \"acces\", \"accompany\", \"accordance\", \"accordance\", \"accordance\", \"accordance\", \"accordance\", \"accordance\", \"accordance\", \"accordance\", \"accordance\", \"accuracy\", \"accuracy\", \"accuracy\", \"accuracy\", \"accuracy\", \"acf\", \"acquisition\", \"acquisition\", \"acquisition\", \"acquisition\", \"act\", \"act\", \"act\", \"act\", \"act\", \"act\", \"act\", \"act\", \"act\", \"act\", \"acute\", \"addres\", \"addres\", \"addres\", \"addres\", \"addres\", \"addres\", \"addres\", \"adjusted\", \"adjusted\", \"adjusted\", \"administered\", \"administered\", \"administered\", \"administered\", \"administered\", \"administration\", \"administration\", \"administration\", \"administration\", \"administration\", \"administrative\", \"administrative\", \"administrative\", \"administrative\", \"administrative\", \"adult\", \"adult\", \"advantage\", \"advantage\", \"advantage\", \"adverse\", \"adverse\", \"adverse\", \"affected\", \"affected\", \"affected\", \"affected\", \"affordable\", \"affordable\", \"affordable\", \"agenc\", \"agenc\", \"agenc\", \"agenc\", \"agenc\", \"agenc\", \"agenc\", \"agency\", \"agency\", \"agency\", \"agency\", \"agency\", \"agency\", \"agency\", \"agency\", \"alaska\", \"almost\", \"almost\", \"also\", \"also\", \"also\", \"also\", \"also\", \"also\", \"also\", \"also\", \"also\", \"also\", \"amended\", \"amended\", \"amended\", \"amended\", \"american\", \"american\", \"american\", \"american\", \"american\", \"amount\", \"amount\", \"amount\", \"amount\", \"amount\", \"amount\", \"amp\", \"amp\", \"amp\", \"amp\", \"amp\", \"amp\", \"analysi\", \"analysi\", \"analysi\", \"analysi\", \"analysi\", \"analyze\", \"analyze\", \"analyze\", \"analyze\", \"analyze\", \"analyze\", \"analyze\", \"another\", \"another\", \"another\", \"application\", \"application\", \"application\", \"application\", \"application\", \"application\", \"appropriated\", \"appropriated\", \"appropriated\", \"appropriation\", \"appropriation\", \"appropriation\", \"asp\", \"aspr\", \"assistance\", \"assistance\", \"assistance\", \"assistance\", \"assistance\", \"assistant\", \"assistant\", \"assistant\", \"assisted\", \"assisted\", \"audit\", \"audit\", \"audit\", \"audit\", \"audit\", \"audit\", \"audit\", \"audit\", \"audit\", \"audit\", \"audited\", \"audited\", \"auditor\", \"average\", \"average\", \"award\", \"award\", \"awarded\", \"b\", \"b\", \"b\", \"b\", \"b\", \"b\", \"background\", \"background\", \"background\", \"based\", \"based\", \"based\", \"based\", \"based\", \"based\", \"based\", \"based\", \"based\", \"behavioral\", \"behavioral\", \"beneficiar\", \"beneficiar\", \"beneficiar\", \"beneficiar\", \"beneficiar\", \"beneficiar\", \"beneficiar\", \"beneficiar\", \"beneficiar\", \"beneficiary\", \"beneficiary\", \"beneficiary\", \"beneficiary\", \"beneficiary\", \"benefit\", \"benefit\", \"benefit\", \"benefit\", \"benefit\", \"benefit\", \"benefit\", \"best\", \"best\", \"best\", \"bidd\", \"bidd\", \"bill\", \"bill\", \"bill\", \"bill\", \"bill\", \"billed\", \"billed\", \"billed\", \"brief\", \"brief\", \"brief\", \"brief\", \"c\", \"c\", \"c\", \"c\", \"c\", \"c\", \"calculat\", \"calculat\", \"calculat\", \"calculated\", \"calculated\", \"calculated\", \"calculated\", \"capitation\", \"care\", \"care\", \"care\", \"care\", \"care\", \"care\", \"care\", \"care\", \"care\", \"cdc\", \"cdc\", \"center\", \"center\", \"center\", \"center\", \"center\", \"center\", \"center\", \"center\", \"certain\", \"certain\", \"certain\", \"certain\", \"certain\", \"certain\", \"certain\", \"certain\", \"certain\", \"cfr\", \"cfr\", \"cfr\", \"cfr\", \"cfr\", \"cfr\", \"cfr\", \"ch\", \"ch\", \"challenge\", \"challenge\", \"challenge\", \"challenge\", \"challenge\", \"characteristic\", \"characteristic\", \"characteristic\", \"charge\", \"charge\", \"charge\", \"charge\", \"check\", \"check\", \"check\", \"check\", \"child\", \"children\", \"children\", \"circular\", \"circular\", \"civil\", \"civil\", \"claim\", \"claim\", \"claim\", \"claim\", \"claim\", \"claim\", \"clinical\", \"clinical\", \"clinical\", \"clinical\", \"clinical\", \"cm\", \"cm\", \"cm\", \"cm\", \"cm\", \"cm\", \"cm\", \"cm\", \"cm\", \"cod\", \"common\", \"common\", \"common\", \"communit\", \"communit\", \"community\", \"community\", \"community\", \"community\", \"comparison\", \"compensation\", \"compensation\", \"competitive\", \"competitive\", \"complaint\", \"complaint\", \"complaint\", \"completenes\", \"completenes\", \"completenes\", \"completion\", \"completion\", \"compliance\", \"compliance\", \"compliance\", \"compliance\", \"compliance\", \"compliance\", \"compliance\", \"compliance\", \"condition\", \"condition\", \"condition\", \"condition\", \"condition\", \"condition\", \"condition\", \"condition\", \"conduct\", \"conduct\", \"conduct\", \"conduct\", \"conduct\", \"conduct\", \"conduct\", \"conduct\", \"conduct\", \"conduct\", \"consistent\", \"consistent\", \"consistent\", \"contact\", \"contact\", \"contact\", \"continu\", \"continu\", \"continu\", \"continu\", \"continu\", \"contract\", \"contract\", \"contract\", \"contract\", \"contract\", \"contractor\", \"contractor\", \"contractor\", \"contractor\", \"contractor\", \"control\", \"control\", \"control\", \"control\", \"control\", \"control\", \"control\", \"cooperative\", \"cooperative\", \"coronaviru\", \"coronaviru\", \"cost\", \"cost\", \"cost\", \"cost\", \"cost\", \"cost\", \"cost\", \"covered\", \"covered\", \"covered\", \"covered\", \"covered\", \"covid\", \"covid\", \"covid\", \"crisi\", \"crisi\", \"custody\", \"custody\", \"cybersecurity\", \"cybersecurity\", \"daily\", \"daily\", \"daily\", \"data\", \"data\", \"data\", \"data\", \"data\", \"data\", \"data\", \"data\", \"data\", \"data\", \"day\", \"day\", \"day\", \"day\", \"day\", \"day\", \"death\", \"death\", \"death\", \"death\", \"death\", \"defense\", \"defense\", \"deficienc\", \"deficienc\", \"deficienc\", \"deficienc\", \"department\", \"department\", \"department\", \"department\", \"department\", \"department\", \"describe\", \"describe\", \"describe\", \"describe\", \"describe\", \"describe\", \"describe\", \"describe\", \"detect\", \"detect\", \"detect\", \"device\", \"device\", \"device\", \"device\", \"diagnose\", \"diagnose\", \"diagnose\", \"diagnosi\", \"diagnosi\", \"diagnosi\", \"diagnosi\", \"diagnosi\", \"diagnosi\", \"difference\", \"difference\", \"directed\", \"directed\", \"directed\", \"disaster\", \"disaster\", \"discharge\", \"discretion\", \"disease\", \"disease\", \"disease\", \"disease\", \"disease\", \"disease\", \"disease\", \"disorder\", \"disorder\", \"disorder\", \"disorder\", \"division\", \"division\", \"division\", \"division\", \"doctor\", \"doctor\", \"document\", \"document\", \"documented\", \"documented\", \"drug\", \"drug\", \"drug\", \"drug\", \"dual\", \"e\", \"e\", \"e\", \"e\", \"e\", \"e\", \"e\", \"economic\", \"education\", \"education\", \"education\", \"efficient\", \"either\", \"either\", \"either\", \"eligible\", \"eligible\", \"eligible\", \"eligible\", \"eligible\", \"eligible\", \"emergency\", \"emergency\", \"emergency\", \"emergency\", \"emergency\", \"enable\", \"enable\", \"enable\", \"enhance\", \"enhance\", \"enhanced\", \"enrollee\", \"enrollee\", \"enrollment\", \"enrollment\", \"enrollment\", \"ensure\", \"ensure\", \"ensure\", \"ensure\", \"ensure\", \"ensure\", \"ensure\", \"ensure\", \"ensure\", \"ensure\", \"error\", \"error\", \"error\", \"error\", \"establishe\", \"establishe\", \"establishe\", \"establishe\", \"estimate\", \"estimate\", \"estimate\", \"estimate\", \"estimated\", \"estimated\", \"estimated\", \"event\", \"event\", \"event\", \"event\", \"excessive\", \"excessive\", \"expended\", \"expended\", \"experienced\", \"experienced\", \"extent\", \"extent\", \"extent\", \"extent\", \"extent\", \"extent\", \"extent\", \"extent\", \"extent\", \"extent\", \"external\", \"external\", \"extreme\", \"faced\", \"faced\", \"faced\", \"faced\", \"facilit\", \"facilit\", \"facilit\", \"facilit\", \"facilit\", \"facilit\", \"facility\", \"facility\", \"facility\", \"facility\", \"facility\", \"facility\", \"famil\", \"famil\", \"famil\", \"family\", \"family\", \"fda\", \"federal\", \"federal\", \"federal\", \"federal\", \"federal\", \"federal\", \"federal\", \"federal\", \"federal\", \"federal\", \"federally\", \"federally\", \"federally\", \"fee\", \"fee\", \"fee\", \"fee\", \"fee\", \"file\", \"file\", \"file\", \"financial\", \"financial\", \"financial\", \"financial\", \"find\", \"find\", \"find\", \"fiscal\", \"fiscal\", \"fiscal\", \"fmap\", \"fmap\", \"fmap\", \"food\", \"food\", \"foreign\", \"formular\", \"formular\", \"foster\", \"four\", \"four\", \"four\", \"four\", \"fraud\", \"fraud\", \"fraud\", \"fraud\", \"fraud\", \"fraud\", \"full\", \"full\", \"full\", \"full\", \"fund\", \"fund\", \"fund\", \"fund\", \"fund\", \"fund\", \"fy\", \"fy\", \"fy\", \"fy\", \"fy\", \"government\", \"government\", \"government\", \"government\", \"government\", \"government\", \"government\", \"grant\", \"grant\", \"grant\", \"grant\", \"grant\", \"grantee\", \"grantee\", \"grantee\", \"group\", \"group\", \"group\", \"group\", \"group\", \"group\", \"group\", \"harm\", \"harm\", \"harm\", \"head\", \"head\", \"health\", \"health\", \"health\", \"health\", \"health\", \"health\", \"health\", \"health\", \"health\", \"health\", \"hh\", \"hh\", \"hh\", \"hh\", \"hh\", \"hh\", \"hh\", \"hha\", \"high\", \"high\", \"high\", \"high\", \"high\", \"high\", \"high\", \"higher\", \"higher\", \"higher\", \"higher\", \"higher\", \"higher\", \"higher\", \"higher\", \"home\", \"home\", \"home\", \"home\", \"home\", \"home\", \"home\", \"hospice\", \"hospice\", \"hospital\", \"hospital\", \"hospital\", \"hospital\", \"hospital\", \"hospital\", \"hospital\", \"hrsa\", \"hrsa\", \"identify\", \"identify\", \"identify\", \"identify\", \"identify\", \"identify\", \"identify\", \"identify\", \"ih\", \"improper\", \"improper\", \"improper\", \"inappropriately\", \"inappropriately\", \"incentive\", \"incentive\", \"incident\", \"incident\", \"includ\", \"includ\", \"includ\", \"includ\", \"includ\", \"includ\", \"includ\", \"includ\", \"includ\", \"includ\", \"income\", \"income\", \"independent\", \"independent\", \"independent\", \"independent\", \"independent\", \"indian\", \"indian\", \"indian\", \"indicated\", \"indicated\", \"indicated\", \"infection\", \"infection\", \"infection\", \"information\", \"information\", \"information\", \"information\", \"information\", \"information\", \"information\", \"information\", \"injury\", \"injury\", \"inpatient\", \"inpatient\", \"inpatient\", \"institute\", \"institute\", \"institute\", \"institute\", \"interest\", \"interest\", \"interest\", \"internal\", \"internal\", \"internal\", \"interview\", \"interview\", \"interview\", \"interview\", \"investigation\", \"investigation\", \"investigation\", \"investigation\", \"investigation\", \"iv\", \"january\", \"january\", \"january\", \"january\", \"january\", \"january\", \"july\", \"july\", \"july\", \"l\", \"l\", \"l\", \"l\", \"l\", \"l\", \"labor\", \"labor\", \"laborator\", \"laborator\", \"laboratory\", \"laboratory\", \"laboratory\", \"les\", \"les\", \"les\", \"limit\", \"limit\", \"limit\", \"limit\", \"limitation\", \"limitation\", \"limitation\", \"liv\", \"liv\", \"liv\", \"liv\", \"liv\", \"local\", \"local\", \"local\", \"local\", \"los\", \"los\", \"los\", \"lower\", \"lower\", \"lower\", \"managed\", \"managed\", \"managed\", \"managed\", \"managed\", \"managed\", \"managed\", \"managed\", \"mandate\", \"mandate\", \"mandate\", \"manual\", \"manual\", \"manual\", \"manufacturer\", \"manufacturer\", \"march\", \"march\", \"march\", \"market\", \"market\", \"market\", \"market\", \"material\", \"material\", \"may\", \"may\", \"may\", \"may\", \"may\", \"may\", \"may\", \"may\", \"may\", \"mco\", \"mco\", \"mco\", \"mechanism\", \"mechanism\", \"mechanism\", \"medicaid\", \"medicaid\", \"medicaid\", \"medicaid\", \"medicaid\", \"medicaid\", \"medicaid\", \"medicaid\", \"medicaid\", \"medical\", \"medical\", \"medical\", \"medical\", \"medical\", \"medical\", \"medical\", \"medical\", \"medical\", \"medically\", \"medically\", \"medicare\", \"medicare\", \"medicare\", \"medicare\", \"medicare\", \"medicare\", \"medicare\", \"medicare\", \"medicare\", \"mfcu\", \"mfcu\", \"million\", \"million\", \"million\", \"million\", \"million\", \"million\", \"misuse\", \"misuse\", \"modifier\", \"modifier\", \"money\", \"money\", \"monthly\", \"monthly\", \"monthly\", \"multiple\", \"multiple\", \"multiple\", \"must\", \"must\", \"must\", \"must\", \"must\", \"must\", \"must\", \"must\", \"must\", \"national\", \"national\", \"national\", \"national\", \"national\", \"national\", \"national\", \"national\", \"national\", \"native\", \"necessary\", \"necessary\", \"necessary\", \"necessary\", \"necessary\", \"necessity\", \"necessity\", \"neglect\", \"neglect\", \"neglect\", \"neglect\", \"network\", \"network\", \"network\", \"new\", \"new\", \"new\", \"new\", \"new\", \"new\", \"nih\", \"nih\", \"november\", \"november\", \"nurs\", \"nurs\", \"nurs\", \"nurs\", \"obligation\", \"office\", \"office\", \"office\", \"office\", \"office\", \"office\", \"office\", \"office\", \"office\", \"officer\", \"officer\", \"oig\", \"oig\", \"oig\", \"oig\", \"oig\", \"oig\", \"oig\", \"oig\", \"oig\", \"oig\", \"omb\", \"omb\", \"operated\", \"opioid\", \"opioid\", \"order\", \"order\", \"order\", \"order\", \"order\", \"order\", \"organization\", \"organization\", \"organization\", \"organization\", \"organization\", \"organization\", \"organization\", \"orr\", \"orr\", \"outlined\", \"outlined\", \"outpatient\", \"outpatient\", \"outpatient\", \"outpatient\", \"overdose\", \"paid\", \"paid\", \"paid\", \"paid\", \"pain\", \"pain\", \"pandemic\", \"pandemic\", \"pandemic\", \"pandemic\", \"pandemic\", \"paper\", \"parent\", \"parent\", \"parent\", \"part\", \"part\", \"part\", \"part\", \"part\", \"part\", \"part\", \"part\", \"part\", \"part\", \"participation\", \"participation\", \"participation\", \"particular\", \"particular\", \"particular\", \"partner\", \"partner\", \"partner\", \"partner\", \"patient\", \"patient\", \"patient\", \"patient\", \"patient\", \"patient\", \"patient\", \"patient\", \"pay\", \"pay\", \"pay\", \"pay\", \"pay\", \"pay\", \"pay\", \"pay\", \"payer\", \"payer\", \"payer\", \"payment\", \"payment\", \"payment\", \"payment\", \"payment\", \"payment\", \"payment\", \"payment\", \"per\", \"per\", \"per\", \"per\", \"percent\", \"percent\", \"percent\", \"percent\", \"percent\", \"percent\", \"percent\", \"percent\", \"periodic\", \"periodic\", \"personal\", \"personal\", \"personal\", \"pharmac\", \"pharmac\", \"pharmacy\", \"pharmacy\", \"physician\", \"physician\", \"physician\", \"physician\", \"physician\", \"physician\", \"plan\", \"plan\", \"plan\", \"plan\", \"plan\", \"plan\", \"plan\", \"portion\", \"portion\", \"portion\", \"portion\", \"post\", \"post\", \"post\", \"post\", \"post\", \"potential\", \"potential\", \"potential\", \"potential\", \"potential\", \"potential\", \"potential\", \"potential\", \"practitioner\", \"practitioner\", \"prescrib\", \"prescrib\", \"prescriber\", \"prescription\", \"prescription\", \"prescription\", \"prescription\", \"preventable\", \"preventable\", \"prevention\", \"prevention\", \"prevention\", \"prevention\", \"prevention\", \"price\", \"price\", \"price\", \"principle\", \"prior\", \"prior\", \"prior\", \"prior\", \"prior\", \"prior\", \"prior\", \"prior\", \"prior\", \"procedure\", \"procedure\", \"procedure\", \"procedure\", \"procedure\", \"procedure\", \"procedure\", \"procedure\", \"process\", \"process\", \"produced\", \"product\", \"product\", \"program\", \"program\", \"program\", \"program\", \"program\", \"program\", \"program\", \"program\", \"program\", \"program\", \"progres\", \"progres\", \"progres\", \"progres\", \"progres\", \"project\", \"project\", \"project\", \"promote\", \"promote\", \"promote\", \"property\", \"property\", \"prospective\", \"prospective\", \"prospective\", \"protect\", \"protect\", \"protect\", \"protect\", \"provide\", \"provide\", \"provide\", \"provide\", \"provide\", \"provide\", \"provide\", \"provide\", \"provide\", \"provided\", \"provided\", \"provided\", \"provided\", \"provided\", \"provided\", \"provided\", \"provided\", \"provider\", \"provider\", \"provider\", \"provider\", \"provider\", \"provider\", \"provider\", \"pub\", \"pub\", \"pub\", \"public\", \"public\", \"public\", \"public\", \"public\", \"public\", \"public\", \"publicly\", \"publicly\", \"publicly\", \"publicly\", \"purchase\", \"purchase\", \"purchase\", \"quality\", \"quality\", \"quality\", \"quality\", \"quarter\", \"quarter\", \"quarterly\", \"quarterly\", \"rate\", \"rate\", \"rate\", \"rate\", \"rate\", \"rate\", \"rate\", \"rate\", \"rate\", \"rather\", \"rather\", \"rather\", \"reach\", \"reach\", \"reach\", \"reach\", \"reasonable\", \"reasonable\", \"reasonable\", \"reasonable\", \"rebate\", \"rebate\", \"rebate\", \"receive\", \"receive\", \"receive\", \"receive\", \"receive\", \"receive\", \"receive\", \"receive\", \"receive\", \"recipient\", \"recipient\", \"recipient\", \"recognized\", \"recognized\", \"recover\", \"recover\", \"recover\", \"recover\", \"recovery\", \"recovery\", \"recovery\", \"recovery\", \"reduced\", \"reduced\", \"reduced\", \"refugee\", \"refugee\", \"regulation\", \"regulation\", \"regulation\", \"regulation\", \"regulation\", \"regulation\", \"regulation\", \"rehabilitation\", \"rehabilitation\", \"rehabilitation\", \"reimbursed\", \"reimbursed\", \"reimbursed\", \"reimbursement\", \"reimbursement\", \"reimbursement\", \"reimbursement\", \"reimbursement\", \"related\", \"related\", \"related\", \"related\", \"related\", \"related\", \"related\", \"related\", \"related\", \"related\", \"release\", \"release\", \"release\", \"report\", \"report\", \"report\", \"report\", \"report\", \"report\", \"report\", \"report\", \"report\", \"report\", \"require\", \"require\", \"require\", \"require\", \"require\", \"require\", \"require\", \"require\", \"require\", \"requirement\", \"requirement\", \"requirement\", \"requirement\", \"requirement\", \"requirement\", \"requirement\", \"requirement\", \"requirement\", \"requirement\", \"research\", \"research\", \"research\", \"resident\", \"resident\", \"resident\", \"respect\", \"respect\", \"respect\", \"respect\", \"respect\", \"response\", \"response\", \"response\", \"response\", \"response\", \"retain\", \"retain\", \"retain\", \"return\", \"return\", \"return\", \"review\", \"review\", \"review\", \"review\", \"review\", \"review\", \"review\", \"review\", \"review\", \"review\", \"risk\", \"risk\", \"risk\", \"risk\", \"risk\", \"risk\", \"risk\", \"risk\", \"risk\", \"rule\", \"rule\", \"rule\", \"safety\", \"safety\", \"safety\", \"safety\", \"sale\", \"schedule\", \"schedule\", \"schedule\", \"school\", \"school\", \"scope\", \"scope\", \"security\", \"security\", \"security\", \"security\", \"security\", \"security\", \"security\", \"security\", \"selection\", \"selection\", \"selection\", \"selection\", \"separately\", \"separately\", \"separately\", \"severe\", \"severe\", \"shelter\", \"shelter\", \"significant\", \"significant\", \"significant\", \"significant\", \"significant\", \"significant\", \"significant\", \"similar\", \"similar\", \"similar\", \"skilled\", \"skilled\", \"snf\", \"snf\", \"sponsor\", \"sponsor\", \"sponsor\", \"sponsor\", \"spread\", \"spread\", \"spread\", \"spread\", \"staff\", \"staff\", \"staff\", \"staff\", \"staff\", \"standard\", \"standard\", \"standard\", \"standard\", \"standard\", \"standard\", \"start\", \"start\", \"state\", \"state\", \"state\", \"state\", \"state\", \"state\", \"state\", \"state\", \"statement\", \"stay\", \"stay\", \"stay\", \"stay\", \"strategic\", \"strategic\", \"submit\", \"submit\", \"submit\", \"submit\", \"submit\", \"submit\", \"submit\", \"submitted\", \"submitted\", \"submitted\", \"substitute\", \"substitution\", \"supplier\", \"supplier\", \"supplier\", \"support\", \"support\", \"support\", \"support\", \"support\", \"support\", \"support\", \"support\", \"surgical\", \"surgical\", \"survey\", \"survey\", \"survey\", \"system\", \"system\", \"system\", \"system\", \"system\", \"system\", \"system\", \"system\", \"system\", \"targeted\", \"targeted\", \"targeted\", \"telehealth\", \"telehealth\", \"telehealth\", \"telehealth\", \"temporary\", \"temporary\", \"temporary\", \"test\", \"test\", \"test\", \"test\", \"test\", \"test\", \"therapy\", \"therapy\", \"therapy\", \"title\", \"title\", \"title\", \"tool\", \"tool\", \"tool\", \"top\", \"top\", \"top\", \"transaction\", \"transaction\", \"transaction\", \"transaction\", \"transfer\", \"transfer\", \"transfer\", \"travel\", \"treat\", \"treat\", \"treat\", \"treat\", \"treat\", \"treatment\", \"treatment\", \"treatment\", \"treatment\", \"treatment\", \"treatment\", \"treatment\", \"treatment\", \"tribal\", \"tribal\", \"tribal\", \"tribe\", \"u\", \"u\", \"u\", \"u\", \"u\", \"universit\", \"use\", \"use\", \"use\", \"use\", \"use\", \"use\", \"use\", \"use\", \"use\", \"viru\", \"viru\", \"visit\", \"visit\", \"visit\", \"waiver\", \"waiver\", \"waste\", \"waste\", \"waste\", \"waste\", \"weaknesse\", \"weaknesse\", \"world\", \"world\", \"year\", \"year\", \"year\", \"year\", \"year\", \"year\", \"year\", \"year\", \"year\"]}, \"R\": 30, \"lambda.step\": 0.01, \"plot.opts\": {\"xlab\": \"PC1\", \"ylab\": \"PC2\"}, \"topic.order\": [5, 9, 10, 2, 7, 8, 1, 3, 6, 4]};\n",
              "\n",
              "function LDAvis_load_lib(url, callback){\n",
              "  var s = document.createElement('script');\n",
              "  s.src = url;\n",
              "  s.async = true;\n",
              "  s.onreadystatechange = s.onload = callback;\n",
              "  s.onerror = function(){console.warn(\"failed to load library \" + url);};\n",
              "  document.getElementsByTagName(\"head\")[0].appendChild(s);\n",
              "}\n",
              "\n",
              "if(typeof(LDAvis) !== \"undefined\"){\n",
              "   // already loaded: just create the visualization\n",
              "   !function(LDAvis){\n",
              "       new LDAvis(\"#\" + \"ldavis_el651406763871093282151816868\", ldavis_el651406763871093282151816868_data);\n",
              "   }(LDAvis);\n",
              "}else if(typeof define === \"function\" && define.amd){\n",
              "   // require.js is available: use it to load d3/LDAvis\n",
              "   require.config({paths: {d3: \"https://d3js.org/d3.v5\"}});\n",
              "   require([\"d3\"], function(d3){\n",
              "      window.d3 = d3;\n",
              "      LDAvis_load_lib(\"https://cdn.jsdelivr.net/gh/bmabey/pyLDAvis@3.3.1/pyLDAvis/js/ldavis.v3.0.0.js\", function(){\n",
              "        new LDAvis(\"#\" + \"ldavis_el651406763871093282151816868\", ldavis_el651406763871093282151816868_data);\n",
              "      });\n",
              "    });\n",
              "}else{\n",
              "    // require.js not available: dynamically load d3 & LDAvis\n",
              "    LDAvis_load_lib(\"https://d3js.org/d3.v5.js\", function(){\n",
              "         LDAvis_load_lib(\"https://cdn.jsdelivr.net/gh/bmabey/pyLDAvis@3.3.1/pyLDAvis/js/ldavis.v3.0.0.js\", function(){\n",
              "                 new LDAvis(\"#\" + \"ldavis_el651406763871093282151816868\", ldavis_el651406763871093282151816868_data);\n",
              "            })\n",
              "         });\n",
              "}\n",
              "</script>"
            ]
          },
          "metadata": {},
          "execution_count": 77
        }
      ]
    },
    {
      "cell_type": "code",
      "source": [
        "#Topics Generated\n",
        "for idx, topic in lda_model.print_topics(-1):\n",
        "    print('Topic: {} \\nWords: {}'.format(idx, topic))"
      ],
      "metadata": {
        "colab": {
          "base_uri": "https://localhost:8080/"
        },
        "id": "H93n29w63fXx",
        "outputId": "c7d2d5fd-36d5-4a0a-8dd9-fb5f9d659d41"
      },
      "execution_count": 81,
      "outputs": [
        {
          "output_type": "stream",
          "name": "stdout",
          "text": [
            "Topic: 0 \n",
            "Words: 0.064*\"hospital\" + 0.055*\"medicare\" + 0.040*\"payment\" + 0.034*\"care\" + 0.030*\"inpatient\" + 0.017*\"claim\" + 0.015*\"beneficiary\" + 0.013*\"snf\" + 0.013*\"hospice\" + 0.013*\"transfer\"\n",
            "Topic: 1 \n",
            "Words: 0.030*\"federal\" + 0.030*\"fund\" + 0.028*\"health\" + 0.027*\"hh\" + 0.022*\"grant\" + 0.018*\"program\" + 0.016*\"control\" + 0.015*\"audit\" + 0.014*\"award\" + 0.012*\"center\"\n",
            "Topic: 2 \n",
            "Words: 0.035*\"financial\" + 0.029*\"data\" + 0.025*\"act\" + 0.023*\"drug\" + 0.021*\"review\" + 0.020*\"audit\" + 0.016*\"program\" + 0.015*\"care\" + 0.014*\"require\" + 0.014*\"statement\"\n",
            "Topic: 3 \n",
            "Words: 0.030*\"nih\" + 0.026*\"risk\" + 0.024*\"cm\" + 0.024*\"health\" + 0.022*\"laboratory\" + 0.022*\"test\" + 0.020*\"act\" + 0.018*\"clinical\" + 0.015*\"diagnose\" + 0.015*\"medicare\"\n",
            "Topic: 4 \n",
            "Words: 0.062*\"state\" + 0.037*\"care\" + 0.025*\"program\" + 0.023*\"federal\" + 0.021*\"children\" + 0.020*\"medicaid\" + 0.018*\"provider\" + 0.017*\"requirement\" + 0.016*\"health\" + 0.012*\"act\"\n",
            "Topic: 5 \n",
            "Words: 0.048*\"nurs\" + 0.043*\"home\" + 0.023*\"report\" + 0.022*\"medicare\" + 0.019*\"abuse\" + 0.019*\"resident\" + 0.016*\"facilit\" + 0.016*\"data\" + 0.015*\"cm\" + 0.014*\"program\"\n",
            "Topic: 6 \n",
            "Words: 0.043*\"drug\" + 0.034*\"opioid\" + 0.020*\"data\" + 0.019*\"medicare\" + 0.018*\"fda\" + 0.017*\"oig\" + 0.014*\"price\" + 0.014*\"part\" + 0.013*\"asp\" + 0.013*\"food\"\n",
            "Topic: 7 \n",
            "Words: 0.055*\"payment\" + 0.031*\"medicare\" + 0.018*\"provider\" + 0.014*\"treatment\" + 0.012*\"use\" + 0.012*\"improper\" + 0.011*\"cm\" + 0.011*\"review\" + 0.010*\"procedure\" + 0.010*\"part\"\n",
            "Topic: 8 \n",
            "Words: 0.062*\"medicare\" + 0.042*\"medicaid\" + 0.023*\"payment\" + 0.022*\"drug\" + 0.022*\"amp\" + 0.021*\"part\" + 0.018*\"center\" + 0.015*\"state\" + 0.015*\"claim\" + 0.013*\"requirement\"\n",
            "Topic: 9 \n",
            "Words: 0.036*\"19\" + 0.036*\"covid\" + 0.034*\"health\" + 0.017*\"ih\" + 0.013*\"facilit\" + 0.013*\"pandemic\" + 0.013*\"care\" + 0.013*\"test\" + 0.011*\"program\" + 0.010*\"disease\"\n"
          ]
        }
      ]
    },
    {
      "cell_type": "code",
      "source": [
        "#Check how it classifies\n",
        "\n",
        "n = random.randint(0,len(workplan_df))\n",
        "\n",
        "print(workplan_df.iloc[n]['Summary'], end = '')\n",
        "\n",
        "for index, score in sorted(lda_model[corpus[n]], key=lambda tup: -1*tup[1]):\n",
        "\n",
        "    print(\"\\nScore: {}\\t \\nTopic: {}\".format(score, lda_model.print_topic(index, 10)))"
      ],
      "metadata": {
        "colab": {
          "base_uri": "https://localhost:8080/"
        },
        "id": "bbq_xUpK0epd",
        "outputId": "2c8255f9-9e57-4f67-a867-1dff1f4116ea"
      },
      "execution_count": 78,
      "outputs": [
        {
          "output_type": "stream",
          "name": "stdout",
          "text": [
            "Histocompatibility laboratories typically provide testing required for bone marrow and solid organ transplantation services.  Cost information for these laboratories must be accurate and in sufficient detail to support payments made for services provided (42 CFR § 413.24(a) and (c)). Costs claimed in the cost report must be related to the care of beneficiaries; reasonable, necessary, and proper; and allowable under Medicare regulations (42 CFR § 413.9(a), (b), and (c)(3)). From March 31, 2013, through September 30, 2014, histocompatibility laboratories reported $131 million in reimbursable costs on their most recent cost reports. We will determine whether payments to histocompatibility laboratories were made in accordance with Medicare requirements.\n",
            "Score: 0.5455043315887451\t \n",
            "Topic: 0.055*\"payment\" + 0.031*\"medicare\" + 0.018*\"provider\" + 0.014*\"treatment\" + 0.012*\"use\" + 0.012*\"improper\" + 0.011*\"cm\" + 0.011*\"review\" + 0.010*\"procedure\" + 0.010*\"part\"\n",
            "\n",
            "Score: 0.4406994879245758\t \n",
            "Topic: 0.062*\"medicare\" + 0.042*\"medicaid\" + 0.023*\"payment\" + 0.022*\"drug\" + 0.022*\"amp\" + 0.021*\"part\" + 0.018*\"center\" + 0.015*\"state\" + 0.015*\"claim\" + 0.013*\"requirement\"\n"
          ]
        }
      ]
    },
    {
      "cell_type": "markdown",
      "source": [
        "## Coherence Model Score\n",
        "Score Coherence of Model - u_mass coherence score"
      ],
      "metadata": {
        "id": "_s1qcC_7X0RP"
      }
    },
    {
      "cell_type": "code",
      "source": [
        "#LDA Model Coherence Score\n",
        "cm = CoherenceModel(model=lda_model, \n",
        "                    corpus=corpus, \n",
        "                    coherence=\"u_mass\")\n",
        "\n",
        "coherence = cm.get_coherence()  # get coherence value\n",
        "\n",
        "print(coherence)"
      ],
      "metadata": {
        "colab": {
          "base_uri": "https://localhost:8080/"
        },
        "id": "HiqF7G-cKHg2",
        "outputId": "15bc6325-8e02-47aa-ee4d-7f2a28f3584b"
      },
      "execution_count": 80,
      "outputs": [
        {
          "output_type": "stream",
          "name": "stdout",
          "text": [
            "-2.4697035389113178\n"
          ]
        }
      ]
    },
    {
      "cell_type": "markdown",
      "source": [
        "## Tfidf Model"
      ],
      "metadata": {
        "id": "55CAtCoxcCtM"
      }
    },
    {
      "cell_type": "code",
      "source": [
        "from gensim import corpora, models\n",
        "tfidf = models.TfidfModel(corpus)\n",
        "corpus_tfidf = tfidf[corpus]\n",
        "\n",
        "lda_model_tfidf = gensim.models.LdaMulticore(corpus_tfidf, num_topics=8, id2word=dictionary, passes=20, workers=8)"
      ],
      "metadata": {
        "id": "z-j1gAgf0Pk_"
      },
      "execution_count": 82,
      "outputs": []
    },
    {
      "cell_type": "code",
      "source": [
        "for idx, topic in lda_model_tfidf.print_topics(-1):\n",
        "    print('Topic: {} Word: {}'.format(idx, topic))"
      ],
      "metadata": {
        "colab": {
          "base_uri": "https://localhost:8080/"
        },
        "id": "P4kksEx3z8oI",
        "outputId": "ee6cc341-7f5c-4f39-d9df-13a67e97607a"
      },
      "execution_count": 83,
      "outputs": [
        {
          "output_type": "stream",
          "name": "stdout",
          "text": [
            "Topic: 0 Word: 0.016*\"medicare\" + 0.012*\"payment\" + 0.012*\"claim\" + 0.010*\"hospital\" + 0.009*\"physician\" + 0.008*\"hospice\" + 0.008*\"bill\" + 0.008*\"inpatient\" + 0.007*\"financial\" + 0.006*\"b\"\n",
            "Topic: 1 Word: 0.013*\"opioid\" + 0.008*\"covid\" + 0.008*\"19\" + 0.008*\"drug\" + 0.007*\"response\" + 0.006*\"data\" + 0.006*\"fda\" + 0.006*\"use\" + 0.006*\"nurs\" + 0.006*\"health\"\n",
            "Topic: 2 Word: 0.011*\"saving\" + 0.008*\"efficient\" + 0.006*\"promote\" + 0.005*\"investment\" + 0.005*\"infrastructure\" + 0.004*\"coordinate\" + 0.004*\"delivery\" + 0.004*\"initiative\" + 0.004*\"accountability\" + 0.003*\"quality\"\n",
            "Topic: 3 Word: 0.016*\"telehealth\" + 0.016*\"mco\" + 0.015*\"drug\" + 0.012*\"part\" + 0.012*\"payment\" + 0.011*\"snf\" + 0.011*\"beneficiar\" + 0.010*\"medicaid\" + 0.010*\"managed\" + 0.010*\"transfer\"\n",
            "Topic: 4 Word: 0.012*\"state\" + 0.010*\"children\" + 0.008*\"fund\" + 0.008*\"program\" + 0.007*\"medicaid\" + 0.007*\"federal\" + 0.007*\"nih\" + 0.007*\"provider\" + 0.007*\"cost\" + 0.007*\"grant\"\n",
            "Topic: 5 Word: 0.017*\"charge\" + 0.014*\"incentive\" + 0.012*\"travel\" + 0.011*\"purchase\" + 0.011*\"improper\" + 0.011*\"device\" + 0.009*\"market\" + 0.008*\"pain\" + 0.008*\"order\" + 0.007*\"share\"\n",
            "Topic: 6 Word: 0.020*\"asp\" + 0.017*\"price\" + 0.014*\"drug\" + 0.010*\"average\" + 0.009*\"manufacturer\" + 0.009*\"amp\" + 0.008*\"quarter\" + 0.008*\"reimbursement\" + 0.008*\"sale\" + 0.008*\"laboratory\"\n",
            "Topic: 7 Word: 0.032*\"rebate\" + 0.019*\"manufacturer\" + 0.016*\"drug\" + 0.012*\"senior\" + 0.011*\"model\" + 0.011*\"performance\" + 0.010*\"project\" + 0.008*\"post\" + 0.007*\"approval\" + 0.007*\"collect\"\n"
          ]
        }
      ]
    },
    {
      "cell_type": "code",
      "source": [
        "#corpus = random.randint(0,len(corpus))\n",
        "n = 300\n",
        "print(workplan_df.iloc[n]['Summary'], end = '')\n",
        "for index, score in sorted(lda_model_tfidf[corpus[n]], key=lambda tup: -1*tup[1]):\n",
        "    print(\"\\nScore: {}\\t \\nTopic: {}\".format(score, lda_model_tfidf.print_topic(index, 10)))"
      ],
      "metadata": {
        "colab": {
          "base_uri": "https://localhost:8080/"
        },
        "id": "lQGDVyUb0A2Q",
        "outputId": "c9e4cae4-8026-4829-9162-722fffd36a17"
      },
      "execution_count": 84,
      "outputs": [
        {
          "output_type": "stream",
          "name": "stdout",
          "text": [
            "Opioid abuse and overdose deaths are at crisis levels in the United States, with approximately 49,000 Americans dying from opioids in 2017, an increase from more than 42,000 in 2016.   Consistent with previous OIG work in Medicare Part D and Medicaid, we will determine the extent to which beneficiaries are receiving extreme amounts of opioids through Indian Health Service (IHS), as well as IHS-employed prescribers and IHS-run pharmacies that have questionable prescribing or dispensing patterns.  This review will also determine how IHS prevents and detects opioid misuse or abuse, as well as how it enforces its opioid-related policies.\n",
            "Score: 0.867845892906189\t \n",
            "Topic: 0.013*\"opioid\" + 0.008*\"covid\" + 0.008*\"19\" + 0.008*\"drug\" + 0.007*\"response\" + 0.006*\"data\" + 0.006*\"fda\" + 0.006*\"use\" + 0.006*\"nurs\" + 0.006*\"health\"\n",
            "\n",
            "Score: 0.11825235933065414\t \n",
            "Topic: 0.016*\"telehealth\" + 0.016*\"mco\" + 0.015*\"drug\" + 0.012*\"part\" + 0.012*\"payment\" + 0.011*\"snf\" + 0.011*\"beneficiar\" + 0.010*\"medicaid\" + 0.010*\"managed\" + 0.010*\"transfer\"\n"
          ]
        }
      ]
    },
    {
      "cell_type": "code",
      "source": [
        "from gensim import corpora, models\n",
        "tfidf = models.TfidfModel(corpus)\n",
        "corpus_tfidf = tfidf[corpus]\n",
        "from pprint import pprint\n",
        "for doc in corpus_tfidf:\n",
        "    pprint(doc)\n",
        "    break"
      ],
      "metadata": {
        "id": "LEle_jXC3njH",
        "colab": {
          "base_uri": "https://localhost:8080/"
        },
        "outputId": "3f8cd613-b04d-4599-d3b0-e51b5eef40a3"
      },
      "execution_count": 85,
      "outputs": [
        {
          "output_type": "stream",
          "name": "stdout",
          "text": [
            "[(0, 0.08032733781460998),\n",
            " (1, 0.06680720739964825),\n",
            " (2, 0.09129169023397705),\n",
            " (3, 0.3014371703370182),\n",
            " (4, 0.10750763877481936),\n",
            " (5, 0.0975324093123733),\n",
            " (6, 0.07958149937396115),\n",
            " (7, 0.14055324611860445),\n",
            " (8, 0.07958149937396115),\n",
            " (9, 0.06680720739964825),\n",
            " (10, 0.11986450085023498),\n",
            " (11, 0.09129169023397705),\n",
            " (12, 0.10207762237340029),\n",
            " (13, 0.07027662305930223),\n",
            " (14, 0.5171559088252629),\n",
            " (15, 0.14270484092135052),\n",
            " (16, 0.25582682754837544),\n",
            " (17, 0.09486684244312205),\n",
            " (18, 0.043921290159713654),\n",
            " (19, 0.07958149937396115),\n",
            " (20, 0.17840877449025908),\n",
            " (21, 0.07958149937396115),\n",
            " (22, 0.05115627371246922),\n",
            " (23, 0.11031683130214026),\n",
            " (24, 0.05036841079505216),\n",
            " (25, 0.06824174153246501),\n",
            " (26, 0.11986450085023498),\n",
            " (27, 0.07485289362938097),\n",
            " (28, 0.11986450085023498),\n",
            " (29, 0.0936236473738031),\n",
            " (30, 0.07485289362938097),\n",
            " (31, 0.07675029713657146),\n",
            " (32, 0.08714078579554667),\n",
            " (33, 0.1950648186247466),\n",
            " (34, 0.19233576186664642),\n",
            " (35, 0.05546744955815209),\n",
            " (36, 0.10750763877481936),\n",
            " (37, 0.27079844252302265),\n",
            " (38, 0.05455040727006675),\n",
            " (39, 0.11691785338360218),\n",
            " (40, 0.08438768431954065),\n",
            " (41, 0.13115676052926994),\n",
            " (42, 0.09616788093332321),\n",
            " (43, 0.10047905677900608),\n",
            " (44, 0.07548139837189315),\n",
            " (45, 0.268312412034078)]\n"
          ]
        }
      ]
    }
  ]
}